{
 "cells": [
  {
   "cell_type": "code",
   "execution_count": 3,
   "id": "31383d72",
   "metadata": {},
   "outputs": [],
   "source": [
    "import openslide\n",
    "from openslide.deepzoom import DeepZoomGenerator"
   ]
  },
  {
   "cell_type": "code",
   "execution_count": 4,
   "id": "48aa289f",
   "metadata": {},
   "outputs": [],
   "source": [
    "import numpy as np\n",
    "import matplotlib.pyplot as plt\n",
    "from skimage import io\n",
    "from os import path\n"
   ]
  },
  {
   "cell_type": "markdown",
   "id": "b4e0d380",
   "metadata": {},
   "source": [
    "这里图片我用了绝对路径，你们得改改"
   ]
  },
  {
   "cell_type": "code",
   "execution_count": 5,
   "id": "aaf57f32",
   "metadata": {},
   "outputs": [
    {
     "name": "stdout",
     "output_type": "stream",
     "text": [
      "9\n",
      "((96651, 197226), (48325, 98613), (24162, 49306), (12081, 24653), (6040, 12326), (3020, 6163), (1510, 3081), (755, 1540), (377, 770))\n"
     ]
    }
   ],
   "source": [
    "slide = openslide.OpenSlide('G:/pa17/patient_017_node_1.tif')\n",
    "\n",
    "level_dimensions=slide.level_dimensions\n",
    "\n",
    "level_count = slide.level_count\n",
    "\n",
    "print(level_count)\n",
    "print(level_dimensions)"
   ]
  },
  {
   "cell_type": "code",
   "execution_count": 6,
   "id": "508947c7",
   "metadata": {},
   "outputs": [
    {
     "data": {
      "text/plain": [
       "<matplotlib.image.AxesImage at 0x1f83ca17dc0>"
      ]
     },
     "execution_count": 6,
     "metadata": {},
     "output_type": "execute_result"
    },
    {
     "data": {
      "image/png": "[encoded data removed]",
      "text/plain": [
       "<Figure size 432x288 with 1 Axes>"
      ]
     },
     "metadata": {
      "needs_background": "light"
     },
     "output_type": "display_data"
    }
   ],
   "source": [
    "slide_thumbnail = slide.get_thumbnail((1528,3432))\n",
    "tile = np.array(slide_thumbnail)\n",
    "# scipy.misc.imsave('/home/xhj/PycharmProjects/openslide-experiment/save/thumbnail.jpg', tile)\n",
    "plt.imshow(slide_thumbnail)\n",
    "plt.imshow(tile)\n"
   ]
  },
  {
   "cell_type": "code",
   "execution_count": 7,
   "id": "9be0821d",
   "metadata": {},
   "outputs": [
    {
     "name": "stdout",
     "output_type": "stream",
     "text": [
      "39\n",
      "19\n"
     ]
    }
   ],
   "source": [
    "data_gen = DeepZoomGenerator(slide, tile_size=40464, overlap=0, limit_bounds=False)\n",
    "\n",
    "print(data_gen.tile_count)\n",
    "print(data_gen.level_count)\n",
    "#plt.imshow(data_gen.get_tile(15,(10,10)))\n",
    "#plt.imshow(tile)"
   ]
  },
  {
   "cell_type": "code",
   "execution_count": 8,
   "id": "4aa48d92",
   "metadata": {},
   "outputs": [
    {
     "data": {
      "text/plain": [
       "<matplotlib.image.AxesImage at 0x1f83e8fc640>"
      ]
     },
     "execution_count": 8,
     "metadata": {},
     "output_type": "execute_result"
    },
    {
     "data": {
      "image/png": "[encoded data removed]",
      "text/plain": [
       "<Figure size 432x288 with 1 Axes>"
      ]
     },
     "metadata": {
      "needs_background": "light"
     },
     "output_type": "display_data"
    }
   ],
   "source": [
    "plt.imshow(data_gen.get_tile(17,(1,0)))\n",
    "#midle_patch = data_gen.get_tile(17,(1,0))"
   ]
  },
  {
   "cell_type": "code",
   "execution_count": 9,
   "id": "ba6cfd77",
   "metadata": {},
   "outputs": [],
   "source": [
    "midle_patch = data_gen.get_tile(17,(1,0))"
   ]
  },
  {
   "cell_type": "code",
   "execution_count": 10,
   "id": "0955bc11",
   "metadata": {},
   "outputs": [
    {
     "name": "stdout",
     "output_type": "stream",
     "text": [
      "97540\n",
      "19\n"
     ]
    },
    {
     "ename": "ValueError",
     "evalue": "Invalid address",
     "output_type": "error",
     "traceback": [
      "\u001b[1;31m---------------------------------------------------------------------------\u001b[0m",
      "\u001b[1;31mValueError\u001b[0m                                Traceback (most recent call last)",
      "\u001b[1;32m<ipython-input-10-11dc74028c65>\u001b[0m in \u001b[0;36m<module>\u001b[1;34m\u001b[0m\n\u001b[0;32m      4\u001b[0m \u001b[0mprint\u001b[0m\u001b[1;33m(\u001b[0m\u001b[0mdata_gen1\u001b[0m\u001b[1;33m.\u001b[0m\u001b[0mtile_count\u001b[0m\u001b[1;33m)\u001b[0m\u001b[1;33m\u001b[0m\u001b[1;33m\u001b[0m\u001b[0m\n\u001b[0;32m      5\u001b[0m \u001b[0mprint\u001b[0m\u001b[1;33m(\u001b[0m\u001b[0mdata_gen1\u001b[0m\u001b[1;33m.\u001b[0m\u001b[0mlevel_count\u001b[0m\u001b[1;33m)\u001b[0m\u001b[1;33m\u001b[0m\u001b[1;33m\u001b[0m\u001b[0m\n\u001b[1;32m----> 6\u001b[1;33m \u001b[0mplt\u001b[0m\u001b[1;33m.\u001b[0m\u001b[0mimshow\u001b[0m\u001b[1;33m(\u001b[0m\u001b[0mdata_gen1\u001b[0m\u001b[1;33m.\u001b[0m\u001b[0mget_tile\u001b[0m\u001b[1;33m(\u001b[0m\u001b[1;36m12\u001b[0m\u001b[1;33m,\u001b[0m\u001b[1;33m(\u001b[0m\u001b[1;36m3\u001b[0m\u001b[1;33m,\u001b[0m\u001b[1;36m1\u001b[0m\u001b[1;33m)\u001b[0m\u001b[1;33m)\u001b[0m\u001b[1;33m)\u001b[0m\u001b[1;33m\u001b[0m\u001b[1;33m\u001b[0m\u001b[0m\n\u001b[0m",
      "\u001b[1;32mG:\\anaconda3\\lib\\site-packages\\openslide\\deepzoom.py\u001b[0m in \u001b[0;36mget_tile\u001b[1;34m(self, level, address)\u001b[0m\n\u001b[0;32m    147\u001b[0m \u001b[1;33m\u001b[0m\u001b[0m\n\u001b[0;32m    148\u001b[0m         \u001b[1;31m# Read tile\u001b[0m\u001b[1;33m\u001b[0m\u001b[1;33m\u001b[0m\u001b[1;33m\u001b[0m\u001b[0m\n\u001b[1;32m--> 149\u001b[1;33m         \u001b[0margs\u001b[0m\u001b[1;33m,\u001b[0m \u001b[0mz_size\u001b[0m \u001b[1;33m=\u001b[0m \u001b[0mself\u001b[0m\u001b[1;33m.\u001b[0m\u001b[0m_get_tile_info\u001b[0m\u001b[1;33m(\u001b[0m\u001b[0mlevel\u001b[0m\u001b[1;33m,\u001b[0m \u001b[0maddress\u001b[0m\u001b[1;33m)\u001b[0m\u001b[1;33m\u001b[0m\u001b[1;33m\u001b[0m\u001b[0m\n\u001b[0m\u001b[0;32m    150\u001b[0m         \u001b[0mtile\u001b[0m \u001b[1;33m=\u001b[0m \u001b[0mself\u001b[0m\u001b[1;33m.\u001b[0m\u001b[0m_osr\u001b[0m\u001b[1;33m.\u001b[0m\u001b[0mread_region\u001b[0m\u001b[1;33m(\u001b[0m\u001b[1;33m*\u001b[0m\u001b[0margs\u001b[0m\u001b[1;33m)\u001b[0m\u001b[1;33m\u001b[0m\u001b[1;33m\u001b[0m\u001b[0m\n\u001b[0;32m    151\u001b[0m \u001b[1;33m\u001b[0m\u001b[0m\n",
      "\u001b[1;32mG:\\anaconda3\\lib\\site-packages\\openslide\\deepzoom.py\u001b[0m in \u001b[0;36m_get_tile_info\u001b[1;34m(self, dz_level, t_location)\u001b[0m\n\u001b[0;32m    166\u001b[0m         \u001b[1;32mfor\u001b[0m \u001b[0mt\u001b[0m\u001b[1;33m,\u001b[0m \u001b[0mt_lim\u001b[0m \u001b[1;32min\u001b[0m \u001b[0mzip\u001b[0m\u001b[1;33m(\u001b[0m\u001b[0mt_location\u001b[0m\u001b[1;33m,\u001b[0m \u001b[0mself\u001b[0m\u001b[1;33m.\u001b[0m\u001b[0m_t_dimensions\u001b[0m\u001b[1;33m[\u001b[0m\u001b[0mdz_level\u001b[0m\u001b[1;33m]\u001b[0m\u001b[1;33m)\u001b[0m\u001b[1;33m:\u001b[0m\u001b[1;33m\u001b[0m\u001b[1;33m\u001b[0m\u001b[0m\n\u001b[0;32m    167\u001b[0m             \u001b[1;32mif\u001b[0m \u001b[0mt\u001b[0m \u001b[1;33m<\u001b[0m \u001b[1;36m0\u001b[0m \u001b[1;32mor\u001b[0m \u001b[0mt\u001b[0m \u001b[1;33m>=\u001b[0m \u001b[0mt_lim\u001b[0m\u001b[1;33m:\u001b[0m\u001b[1;33m\u001b[0m\u001b[1;33m\u001b[0m\u001b[0m\n\u001b[1;32m--> 168\u001b[1;33m                 \u001b[1;32mraise\u001b[0m \u001b[0mValueError\u001b[0m\u001b[1;33m(\u001b[0m\u001b[1;34m\"Invalid address\"\u001b[0m\u001b[1;33m)\u001b[0m\u001b[1;33m\u001b[0m\u001b[1;33m\u001b[0m\u001b[0m\n\u001b[0m\u001b[0;32m    169\u001b[0m \u001b[1;33m\u001b[0m\u001b[0m\n\u001b[0;32m    170\u001b[0m         \u001b[1;31m# Get preferred slide level\u001b[0m\u001b[1;33m\u001b[0m\u001b[1;33m\u001b[0m\u001b[1;33m\u001b[0m\u001b[0m\n",
      "\u001b[1;31mValueError\u001b[0m: Invalid address"
     ]
    }
   ],
   "source": [
    "highth = 512\n",
    "data_gen1 = DeepZoomGenerator(slide, tile_size=highth, overlap=0, limit_bounds=False)\n",
    "\n",
    "print(data_gen1.tile_count)\n",
    "print(data_gen1.level_count)\n",
    "plt.imshow(data_gen1.get_tile(12,(3,1)))\n"
   ]
  },
  {
   "cell_type": "code",
   "execution_count": null,
   "id": "18a2b7ab",
   "metadata": {},
   "outputs": [],
   "source": [
    "#width = slide.level_dimensions[0][width]\n",
    "#height = slide.level_dimensions[0][height]\n",
    "size = data_gen1.level_dimensions[15]\n",
    "print(size)"
   ]
  },
  {
   "cell_type": "code",
   "execution_count": 71,
   "id": "3efd4670",
   "metadata": {},
   "outputs": [
    {
     "name": "stdout",
     "output_type": "stream",
     "text": [
      "21\n",
      "8\n"
     ]
    }
   ],
   "source": [
    "result_path = '/Users/ying/Documents/CIS课程/small patches/'\n",
    "width =512\n",
    "height=512\n",
    "w=10464\n",
    "h=3776\n",
    "num_w = int(np.floor(w/width))+1\n",
    "num_h = int(np.floor(h/height))+1\n",
    "for i in range(num_w):\n",
    "    for j in range(num_h):\n",
    "        img = np.array(data_gen1.get_tile(15, (i, j))) #切图\n",
    "        io.imsave(path.join(result_path, \"02\"+str(i)+'_'+str(j)+\".png\"), img, check_contrast=False) #保存图像\n",
    "print(num_w)\n",
    "print(num_h)"
   ]
  },
  {
   "cell_type": "code",
   "execution_count": null,
   "id": "16121bfd",
   "metadata": {},
   "outputs": [],
   "source": []
  }
 ],
 "metadata": {
  "kernelspec": {
   "display_name": "Python 3",
   "language": "python",
   "name": "python3"
  },
  "language_info": {
   "codemirror_mode": {
    "name": "ipython",
    "version": 3
   },
   "file_extension": ".py",
   "mimetype": "text/x-python",
   "name": "python",
   "nbconvert_exporter": "python",
   "pygments_lexer": "ipython3",
   "version": "3.8.8"
  }
 },
 "nbformat": 4,
 "nbformat_minor": 5
}
