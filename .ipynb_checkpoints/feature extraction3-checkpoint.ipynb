{
 "cells": [
  {
   "cell_type": "code",
   "execution_count": 1,
   "metadata": {},
   "outputs": [],
   "source": [
    "import math\n",
    "import numpy as np\n",
    "import matplotlib.pyplot as plt\n",
    "\n",
    "import matplotlib.patches as patches\n",
    "from skimage import measure\n",
    "from skimage.color import rgb2gray\n",
    "from skimage.util import img_as_ubyte\n",
    "from skimage import io\n",
    "from skimage.feature import greycomatrix, greycoprops"
   ]
  },
  {
   "cell_type": "code",
   "execution_count": null,
   "metadata": {},
   "outputs": [],
   "source": [
    "image = io.imread(\"dataset045/有癌细胞/01_17_22.png\")\n",
    "PATCH_SIZE = 30\n",
    "\n",
    "cancer_locations = [(10, 210), (140, 100), (170, 140), (90, 310)]\n",
    "cancer_patches = []\n",
    "for loc in cancer_locations:\n",
    "    cancer_patches.append(image[loc[0]:loc[0] + PATCH_SIZE,\n",
    "                               loc[1]:loc[1] + PATCH_SIZE])\n",
    "\n",
    "# select some patches from nuclei areas of the image\n",
    "normal_locations = [(450, 10), (150, 330), (290, 450), (450, 470)]\n",
    "normal_patches = []\n",
    "for loc in normal_locations:\n",
    "    normal_patches.append(image[loc[0]:loc[0] + PATCH_SIZE,\n",
    "                               loc[1]:loc[1] + PATCH_SIZE])"
   ]
  },
  {
   "cell_type": "code",
   "execution_count": null,
   "metadata": {},
   "outputs": [],
   "source": [
    "fig = plt.figure(figsize=(12, 12))\n",
    "\n",
    "for i, patch in enumerate(cancer_patches):\n",
    "    ax = fig.add_subplot(2, len(cancer_patches), i+1)\n",
    "    ax.imshow(patch, cmap=plt.cm.gray,\n",
    "              vmin=0, vmax=255)\n",
    "    ax.set_xlabel('Cancer %d' % (i + 1))\n",
    "\n",
    "for i, patch in enumerate(normal_patches):\n",
    "    ax = fig.add_subplot(2, len(cancer_patches), len(cancer_patches) + i+1)\n",
    "    ax.imshow(patch, cmap=plt.cm.gray,\n",
    "              vmin=0, vmax=255)\n",
    "    ax.set_xlabel('Normal %d' % (i + 1))\n",
    "\n",
    "\n",
    "# display the patches and plot\n",
    "fig.suptitle('Extracted image patches', fontsize=14, y=1.05)\n",
    "plt.tight_layout()\n",
    "plt.show()"
   ]
  },
  {
   "cell_type": "code",
   "execution_count": 6,
   "metadata": {},
   "outputs": [
    {
     "name": "stdout",
     "output_type": "stream",
     "text": [
      "Found existing installation: radiomics 0.1\n",
      "Uninstalling radiomics-0.1:\n",
      "  Would remove:\n",
      "    /Users/jiaqiwu/opt/anaconda3/lib/python3.8/site-packages/radiomics-0.1.dist-info/*\n",
      "    /Users/jiaqiwu/opt/anaconda3/lib/python3.8/site-packages/radiomics/*\n",
      "Proceed (Y/n)? ^C\n",
      "\u001b[31mERROR: Operation cancelled by user\u001b[0m\n",
      "Note: you may need to restart the kernel to use updated packages.\n"
     ]
    }
   ],
   "source": [
    "# pip uninstall radiomics"
   ]
  },
  {
   "cell_type": "code",
   "execution_count": 2,
   "metadata": {},
   "outputs": [],
   "source": [
    "from radiomics import featureextractor\n",
    "import os"
   ]
  },
  {
   "cell_type": "code",
   "execution_count": 3,
   "metadata": {},
   "outputs": [],
   "source": [
    "testCase = 'cancer1'"
   ]
  },
  {
   "cell_type": "code",
   "execution_count": null,
   "metadata": {},
   "outputs": [],
   "source": [
    "dataDir = os.path.join(os.getcwd(), \"..\", \"..\", \"data\")\n",
    "print \"dataDir, relative path:\", dataDir\n",
    "print \"dataDir, absolute path:\", os.path.abspath(dataDir)\n",
    "\n",
    "# Store the file paths of our testing image and label map into two variables\n",
    "imagePath = os.path.join(dataDir, testCase + \"_image.nrrd\")\n",
    "labelPath = os.path.join(dataDir, testCase + \"_label.nrrd\")\n",
    "\n",
    "# Additonally, store the location of the example parameter file, stored in \\pyradiomics\\bin\n",
    "paramPath = os.path.join(os.getcwd(), \"..\", \"Params.yaml\")\n",
    "print \"Parameter file, absolute path:\", os.path.abspath(paramPath)"
   ]
  },
  {
   "cell_type": "code",
   "execution_count": null,
   "metadata": {},
   "outputs": [],
   "source": []
  },
  {
   "cell_type": "code",
   "execution_count": null,
   "metadata": {},
   "outputs": [],
   "source": []
  },
  {
   "cell_type": "code",
   "execution_count": null,
   "metadata": {},
   "outputs": [],
   "source": []
  },
  {
   "cell_type": "code",
   "execution_count": null,
   "metadata": {},
   "outputs": [],
   "source": []
  },
  {
   "cell_type": "code",
   "execution_count": null,
   "metadata": {},
   "outputs": [],
   "source": []
  },
  {
   "cell_type": "code",
   "execution_count": null,
   "metadata": {},
   "outputs": [],
   "source": []
  },
  {
   "cell_type": "code",
   "execution_count": null,
   "metadata": {},
   "outputs": [],
   "source": []
  },
  {
   "cell_type": "code",
   "execution_count": null,
   "metadata": {},
   "outputs": [],
   "source": []
  },
  {
   "cell_type": "code",
   "execution_count": null,
   "metadata": {},
   "outputs": [],
   "source": []
  }
 ],
 "metadata": {
  "kernelspec": {
   "display_name": "Python 3",
   "language": "python",
   "name": "python3"
  },
  "varInspector": {
   "cols": {
    "lenName": 16,
    "lenType": 16,
    "lenVar": 40
   },
   "kernels_config": {
    "python": {
     "delete_cmd_postfix": "",
     "delete_cmd_prefix": "del ",
     "library": "var_list.py",
     "varRefreshCmd": "print(var_dic_list())"
    },
    "r": {
     "delete_cmd_postfix": ") ",
     "delete_cmd_prefix": "rm(",
     "library": "var_list.r",
     "varRefreshCmd": "cat(var_dic_list()) "
    }
   },
   "types_to_exclude": [
    "module",
    "function",
    "builtin_function_or_method",
    "instance",
    "_Feature"
   ],
   "window_display": false
  }
 },
 "nbformat": 4,
 "nbformat_minor": 4
}
