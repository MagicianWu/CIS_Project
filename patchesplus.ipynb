{
 "cells": [
  {
   "cell_type": "code",
   "execution_count": 1,
   "id": "5e668365",
   "metadata": {},
   "outputs": [],
   "source": [
    "import numpy as np\n",
    "import cv2\n",
    "import scipy\n",
    "import scipy.io\n",
    "from sklearn.decomposition import FastICA\n",
    "from tqdm import tqdm\n",
    "from numpy import random"
   ]
  },
  {
   "cell_type": "code",
   "execution_count": 2,
   "id": "a45f7ce5",
   "metadata": {},
   "outputs": [],
   "source": [
    "#img = cv2.imread(\"image0.jpg\", 1)\n",
    "#G:/pa17/test/1.png\n",
    "X = cv2.imread(\"G:/pa17/test/1.png\", 1)\n",
    "Y = cv2.imread(\"G:/pa17/test/1.png\", 1)\n"
   ]
  },
  {
   "cell_type": "code",
   "execution_count": 3,
   "id": "80e8f1f1",
   "metadata": {},
   "outputs": [
    {
     "data": {
      "text/plain": [
       "(960, 2073, 3)"
      ]
     },
     "execution_count": 3,
     "metadata": {},
     "output_type": "execute_result"
    }
   ],
   "source": [
    "X.shape\n",
    "#Y.shape"
   ]
  },
  {
   "cell_type": "code",
   "execution_count": 4,
   "id": "d2e56eae",
   "metadata": {},
   "outputs": [
    {
     "data": {
      "text/plain": [
       "(960, 2073, 3)"
      ]
     },
     "execution_count": 4,
     "metadata": {},
     "output_type": "execute_result"
    }
   ],
   "source": [
    "Y.shape"
   ]
  },
  {
   "cell_type": "code",
   "execution_count": 5,
   "id": "b9db1179",
   "metadata": {},
   "outputs": [],
   "source": [
    "# img_w = 64 \n",
    "# img_h = 64  \n",
    "img_w = 512\n",
    "img_h = 512 \n",
    "\n",
    " #X=''\n",
    "#image_sets = X\n",
    "    \n",
    "def rotate(xb,yb,angle):\n",
    "    M_rotate = cv2.getRotationMatrix2D((img_w/2, img_h/2), angle, 1)\n",
    "    xb = cv2.warpAffine(xb, M_rotate, (img_w, img_h))\n",
    "    yb = cv2.warpAffine(yb, M_rotate, (img_w, img_h))\n",
    "    return xb,yb\n",
    "    \n",
    "def blur(img):\n",
    "    img = cv2.blur(img, (3, 3));\n",
    "    return img\n",
    " \n",
    "def add_noise(img):\n",
    "    for i in range(25):\n",
    "        temp_x = np.random.randint(0,img.shape[0])\n",
    "        temp_y = np.random.randint(0,img.shape[1])\n",
    "        img[temp_x][temp_y] = 1\n",
    "    return img"
   ]
  },
  {
   "cell_type": "code",
   "execution_count": 6,
   "id": "f702c4f3",
   "metadata": {},
   "outputs": [],
   "source": [
    "def data_augment(xb,yb):\n",
    "    if np.random.random() < 0.25:\n",
    "        xb,yb = rotate(xb,yb,90)\n",
    "    if np.random.random() < 0.25:\n",
    "        xb,yb = rotate(xb,yb,180)\n",
    "    if np.random.random() < 0.25:\n",
    "        xb,yb = rotate(xb,yb,270)\n",
    "    if np.random.random() < 0.25:\n",
    "        xb = cv2.flip(xb, 1)  # flipcode > 0：沿y轴翻转\n",
    "        yb = cv2.flip(yb, 1)\n",
    "        \n",
    "    if np.random.random() < 0.25:\n",
    "        xb = blur(xb)\n",
    "    \n",
    "    if np.random.random() < 0.2:\n",
    "        xb = add_noise(xb)\n",
    "        \n",
    "    return xb,yb"
   ]
  },
  {
   "cell_type": "code",
   "execution_count": 7,
   "id": "34ef850d",
   "metadata": {},
   "outputs": [],
   "source": [
    "def creat_dataset(image_num, mode):\n",
    "    print('creating dataset...')\n",
    "    g_count = 0\n",
    "#    for i in tqdm(range(1)):\n",
    "    count = 0\n",
    "        #src_img = cv2.imread('./data/src/' + image_sets[i])  # 3 channels\n",
    "        #label_img = cv2.imread('./data/label/' + image_sets[i],cv2.IMREAD_GRAYSCALE)  # single channel\n",
    "    src_img = X*255 #0-1\n",
    "  #  src_img = X\n",
    "    label_img = Y\n",
    "  #  label_img = X\n",
    "    X_height,X_width,_ = src_img.shape\n",
    " #X_height,X_width,_ = X.shape\n",
    "    while count < image_num:\n",
    "        random_width = random.randint(0, X_width - img_w - 1)\n",
    "        random_height = random.randint(0, X_height - img_h - 1)\n",
    "        src_roi = src_img[random_height: random_height + img_h, random_width: random_width + img_w,:]\n",
    "        label_roi = label_img[random_height: random_height + img_h, random_width: random_width + img_w]\n",
    "        if mode == 'augment':\n",
    "            src_roi,label_roi = data_augment(src_roi,label_roi)\n",
    "            \n",
    "        visualize = np.zeros((img_w,img_h)).astype(np.uint8)\n",
    "    #    visualize = np.zeros((32,32)).astype(np.uint8)\n",
    "    #   visualize = np.zeros((512,512)).astype(np.uint8)\n",
    "    #  visualize = np.zeros((32img_w,32img_h)).astype(np.uint8)\n",
    "        visualize = label_roi *16-1\n",
    "    \n",
    "    #G:/pa17/test/\n",
    "#         cv2.imwrite(('../Desktop/Train/visualize/%d.png' % g_count),visualize)\n",
    "#         cv2.imwrite(('../Desktop/Train/src/%d.png' % g_count),src_roi)\n",
    "#         cv2.imwrite(('../Desktop/Train/label/%d.png' % g_count),label_roi)\n",
    "        \n",
    "#          cv2.imwrite(('G:/pa17/test/visualize/%d.png' % g_count),visualize)\n",
    "#         cv2.imwrite(('G:/pa17/test/src/%d.png' % g_count),src_roi)\n",
    "#         cv2.imwrite(('G:/pa17/test/label/%d.png' % g_count),label_roi)\n",
    "        \n",
    "        cv2.imwrite(('st_data/visualize/1_%d.png' % g_count),visualize)\n",
    "        cv2.imwrite(('st_data/src/1_%d.png' % g_count),src_roi)\n",
    "        cv2.imwrite(('st_data/label/1_%d.png' % g_count),label_roi)\n",
    "        \n",
    "        \n",
    "        count += 1 \n",
    "        g_count += 1"
   ]
  },
  {
   "cell_type": "code",
   "execution_count": 8,
   "id": "54415bee",
   "metadata": {},
   "outputs": [
    {
     "name": "stdout",
     "output_type": "stream",
     "text": [
      "creating dataset...\n"
     ]
    }
   ],
   "source": [
    "creat_dataset(500, 'augment')#50"
   ]
  },
  {
   "cell_type": "code",
   "execution_count": null,
   "id": "34185def",
   "metadata": {},
   "outputs": [],
   "source": []
  },
  {
   "cell_type": "code",
   "execution_count": null,
   "id": "e8660062",
   "metadata": {},
   "outputs": [],
   "source": []
  },
  {
   "cell_type": "code",
   "execution_count": null,
   "id": "b0c35d30",
   "metadata": {},
   "outputs": [],
   "source": []
  },
  {
   "cell_type": "code",
   "execution_count": null,
   "id": "e5fd92f8",
   "metadata": {},
   "outputs": [],
   "source": []
  },
  {
   "cell_type": "code",
   "execution_count": null,
   "id": "60e0b030",
   "metadata": {},
   "outputs": [],
   "source": []
  },
  {
   "cell_type": "code",
   "execution_count": null,
   "id": "1493b0ce",
   "metadata": {},
   "outputs": [],
   "source": []
  }
 ],
 "metadata": {
  "kernelspec": {
   "display_name": "Python 3",
   "language": "python",
   "name": "python3"
  },
  "language_info": {
   "codemirror_mode": {
    "name": "ipython",
    "version": 3
   },
   "file_extension": ".py",
   "mimetype": "text/x-python",
   "name": "python",
   "nbconvert_exporter": "python",
   "pygments_lexer": "ipython3",
   "version": "3.8.8"
  }
 },
 "nbformat": 4,
 "nbformat_minor": 5
}
