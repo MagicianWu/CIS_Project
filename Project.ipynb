{
 "cells": [
  {
   "cell_type": "code",
   "execution_count": null,
   "metadata": {},
   "outputs": [],
   "source": [
    "import numpy as np\n",
    "import matplotlib.pyplot as plt\n",
    "\n",
    "from skimage import data\n",
    "from skimage.color import rgb2hed, hed2rgb\n",
    "\n",
    "# Example IHC image\n",
    "ihc_rgb = data.immunohistochemistry()\n",
    "\n",
    "# Separate the stains from the IHC image\n",
    "ihc_hed = rgb2hed(ihc_rgb)\n",
    "\n",
    "# Create an RGB image for each of the stains\n",
    "null = np.zeros_like(ihc_hed[:, :, 0])\n",
    "ihc_h = hed2rgb(np.stack((ihc_hed[:, :, 0], null, null), axis=-1))\n",
    "ihc_e = hed2rgb(np.stack((null, ihc_hed[:, :, 1], null), axis=-1))\n",
    "ihc_d = hed2rgb(np.stack((null, null, ihc_hed[:, :, 2]), axis=-1))\n",
    "\n",
    "# Display\n",
    "fig, axes = plt.subplots(2, 2, figsize=(7, 6), sharex=True, sharey=True)\n",
    "ax = axes.ravel()\n",
    "\n",
    "ax[0].imshow(ihc_rgb)\n",
    "ax[0].set_title(\"Original image\")\n",
    "\n",
    "ax[1].imshow(ihc_h)\n",
    "ax[1].set_title(\"Hematoxylin\")\n",
    "\n",
    "ax[2].imshow(ihc_e)\n",
    "ax[2].set_title(\"Eosin\")  # Note that there is no Eosin stain in this image\n",
    "\n",
    "ax[3].imshow(ihc_d)\n",
    "ax[3].set_title(\"DAB\")\n",
    "\n",
    "for a in ax.ravel():\n",
    "    a.axis('off')\n",
    "\n",
    "fig.tight_layout()"
   ]
  }
 ],
 "metadata": {
  "kernelspec": {
   "display_name": "Python 3",
   "language": "python",
   "name": "python3"
  },
  "language_info": {
   "codemirror_mode": {
    "name": "ipython",
    "version": 3
   },
   "file_extension": ".py",
   "mimetype": "text/x-python",
   "name": "python",
   "nbconvert_exporter": "python",
   "pygments_lexer": "ipython3",
   "version": "3.8.5"
  },
  "varInspector": {
   "cols": {
    "lenName": 16,
    "lenType": 16,
    "lenVar": 40
   },
   "kernels_config": {
    "python": {
     "delete_cmd_postfix": "",
     "delete_cmd_prefix": "del ",
     "library": "var_list.py",
     "varRefreshCmd": "print(var_dic_list())"
    },
    "r": {
     "delete_cmd_postfix": ") ",
     "delete_cmd_prefix": "rm(",
     "library": "var_list.r",
     "varRefreshCmd": "cat(var_dic_list()) "
    }
   },
   "types_to_exclude": [
    "module",
    "function",
    "builtin_function_or_method",
    "instance",
    "_Feature"
   ],
   "window_display": false
  }
 },
 "nbformat": 4,
 "nbformat_minor": 4
}
