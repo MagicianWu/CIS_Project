{
 "cells": [
  {
   "cell_type": "code",
   "execution_count": 1,
   "metadata": {},
   "outputs": [],
   "source": [
    "import numpy as np\n",
    "import pandas as pd"
   ]
  },
  {
   "cell_type": "code",
   "execution_count": null,
   "metadata": {},
   "outputs": [],
   "source": []
  },
  {
   "cell_type": "markdown",
   "metadata": {},
   "source": [
    "# load data"
   ]
  },
  {
   "cell_type": "code",
   "execution_count": null,
   "metadata": {},
   "outputs": [],
   "source": [
    "data = pd.read_csv(\"\")"
   ]
  },
  {
   "cell_type": "markdown",
   "metadata": {},
   "source": [
    "# Train and Test data split"
   ]
  },
  {
   "cell_type": "code",
   "execution_count": null,
   "metadata": {},
   "outputs": [],
   "source": [
    "# randomly split data into 50% train and 50% test set\n",
    "trainX, testX, trainYo, testYo = \\\n",
    "  model_selection.train_test_split(dataX, dataY, \n",
    "  train_size=0.50, test_size=0.50, random_state=4487)\n",
    "\n",
    "print(trainX.shape)\n",
    "print(testX.shape)"
   ]
  },
  {
   "cell_type": "code",
   "execution_count": null,
   "metadata": {},
   "outputs": [],
   "source": [
    "### Nomalization\n",
    "scalerf = preprocessing.MinMaxScaler(feature_range=(-1,1))    # make scaling object\n",
    "trainXfn = scalerf.fit_transform(trainXf)   # use training data to fit scaling parameters\n",
    "testXfn  = scalerf.transform(testXf)        # apply scaling to test data\n",
    "\n",
    "clfs2 = {}"
   ]
  },
  {
   "cell_type": "code",
   "execution_count": null,
   "metadata": {},
   "outputs": [],
   "source": [
    "# setup all the parameters and models\n",
    "exps = {\n",
    "    'svm-lin': {\n",
    "        'paramgrid': {'C': logspace(-2,3,10)},\n",
    "        'clf': svm.SVC(kernel='linear') },\n",
    "    'svm-rbf': {\n",
    "        'paramgrid': {'C': logspace(-2,3,10), 'gamma': logspace(-4,3,10) },\n",
    "        'clf': svm.SVC(kernel='rbf') },\n",
    "    'svm-poly': {\n",
    "        'paramgrid': {'C': logspace(-2,3,10), 'degree': [2, 3, 4] },\n",
    "        'clf': svm.SVC(kernel='poly') },       \n",
    "    }\n"
   ]
  },
  {
   "cell_type": "code",
   "execution_count": null,
   "metadata": {},
   "outputs": [],
   "source": [
    "### INSERT YOUR CODE HERE\n",
    "## HINT\n",
    "## Classfiers: sklearn.model_selection.GridSearchCV()\n",
    "for key in exps:\n",
    "    clf = model_selection.GridSearchCV(exps[key]['clf'], exps[key]['paramgrid'], cv=5, n_jobs=-1)\n",
    "    clf.fit(trainXfn, trainY)\n",
    "    clfs2[key] = clf\n",
    "    print(key)\n",
    "    print(clf.best_params_)"
   ]
  },
  {
   "cell_type": "code",
   "execution_count": null,
   "metadata": {},
   "outputs": [],
   "source": []
  },
  {
   "cell_type": "code",
   "execution_count": null,
   "metadata": {},
   "outputs": [],
   "source": [
    "### INSERT YOUR CODE HERE\n",
    "predYtest = {}\n",
    "for key in clfs:\n",
    "    clf = clfs2[key].best_estimator_\n",
    "    predYtest[key] = clf.predict(testXfn)\n",
    "    print('The training accuracy of ', key, ' is ', metrics.accuracy_score(clf.predict(trainXfn), trainY))\n",
    "    print('The testing accuracy of ', key, ' is ', metrics.accuracy_score(predYtest[key], testY))### Error Analysis\n",
    "Similar to before, repeat the error analysis for the new classifiers."
   ]
  },
  {
   "cell_type": "code",
   "execution_count": null,
   "metadata": {},
   "outputs": [],
   "source": [
    "### INSERT YOUR CODE HERE\n",
    "Pind = where(testY==1) # indicies for face\n",
    "Nind = where(testY==0) # indicies for non-face\n",
    "\n",
    "TP = count_nonzero(testY[Pind] == predY[Pind])\n",
    "FN = count_nonzero(testY[Pind] != predY[Pind])\n",
    "TN = count_nonzero(testY[Nind] == predY[Nind])\n",
    "FP = count_nonzero(testY[Nind] != predY[Nind])\n",
    "\n",
    "TPR = TP / (TP+FN)\n",
    "FPR = FP / (FP+TN)\n",
    "\n",
    "print(\"TP=\", TP)\n",
    "print(\"FP=\", FP)\n",
    "print(\"TN=\", TN)\n",
    "print(\"FN=\", FN)\n",
    "print(\"TPR=\", TPR)\n",
    "print(\"FPR=\", FPR)"
   ]
  },
  {
   "cell_type": "code",
   "execution_count": null,
   "metadata": {},
   "outputs": [],
   "source": []
  },
  {
   "cell_type": "code",
   "execution_count": null,
   "metadata": {},
   "outputs": [],
   "source": []
  },
  {
   "cell_type": "code",
   "execution_count": null,
   "metadata": {},
   "outputs": [],
   "source": []
  },
  {
   "cell_type": "code",
   "execution_count": null,
   "metadata": {},
   "outputs": [],
   "source": []
  },
  {
   "cell_type": "code",
   "execution_count": null,
   "metadata": {},
   "outputs": [],
   "source": []
  },
  {
   "cell_type": "code",
   "execution_count": null,
   "metadata": {},
   "outputs": [],
   "source": []
  },
  {
   "cell_type": "code",
   "execution_count": null,
   "metadata": {},
   "outputs": [],
   "source": []
  },
  {
   "cell_type": "code",
   "execution_count": null,
   "metadata": {},
   "outputs": [],
   "source": []
  },
  {
   "cell_type": "code",
   "execution_count": null,
   "metadata": {},
   "outputs": [],
   "source": []
  },
  {
   "cell_type": "code",
   "execution_count": null,
   "metadata": {},
   "outputs": [],
   "source": []
  },
  {
   "cell_type": "code",
   "execution_count": null,
   "metadata": {},
   "outputs": [],
   "source": []
  },
  {
   "cell_type": "code",
   "execution_count": null,
   "metadata": {},
   "outputs": [],
   "source": []
  },
  {
   "cell_type": "code",
   "execution_count": null,
   "metadata": {},
   "outputs": [],
   "source": []
  },
  {
   "cell_type": "code",
   "execution_count": null,
   "metadata": {},
   "outputs": [],
   "source": []
  }
 ],
 "metadata": {
  "kernelspec": {
   "display_name": "Python 3",
   "language": "python",
   "name": "python3"
  },
  "language_info": {
   "codemirror_mode": {
    "name": "ipython",
    "version": 3
   },
   "file_extension": ".py",
   "mimetype": "text/x-python",
   "name": "python",
   "nbconvert_exporter": "python",
   "pygments_lexer": "ipython3",
   "version": "3.8.5"
  },
  "varInspector": {
   "cols": {
    "lenName": 16,
    "lenType": 16,
    "lenVar": 40
   },
   "kernels_config": {
    "python": {
     "delete_cmd_postfix": "",
     "delete_cmd_prefix": "del ",
     "library": "var_list.py",
     "varRefreshCmd": "print(var_dic_list())"
    },
    "r": {
     "delete_cmd_postfix": ") ",
     "delete_cmd_prefix": "rm(",
     "library": "var_list.r",
     "varRefreshCmd": "cat(var_dic_list()) "
    }
   },
   "types_to_exclude": [
    "module",
    "function",
    "builtin_function_or_method",
    "instance",
    "_Feature"
   ],
   "window_display": false
  }
 },
 "nbformat": 4,
 "nbformat_minor": 4
}
