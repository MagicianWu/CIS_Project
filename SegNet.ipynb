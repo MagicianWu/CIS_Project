{
 "cells": [
  {
   "cell_type": "code",
   "execution_count": 1,
   "metadata": {},
   "outputs": [],
   "source": [
    "import numpy as np\n",
    "import cv2\n",
    "import scipy\n",
    "import scipy.io\n",
    "from sklearn.decomposition import FastICA\n",
    "from tqdm import tqdm\n",
    "from numpy import random"
   ]
  },
  {
   "cell_type": "code",
   "execution_count": 197,
   "metadata": {},
   "outputs": [],
   "source": [
    "salinas = scipy.io.loadmat('salinas_full.mat')\n",
    "X = salinas['salinas']\n",
    "Y = salinas['salinas_gt']"
   ]
  },
  {
   "cell_type": "code",
   "execution_count": 198,
   "metadata": {},
   "outputs": [
    {
     "data": {
      "text/plain": [
       "(111104, 3)"
      ]
     },
     "execution_count": 198,
     "metadata": {},
     "output_type": "execute_result"
    }
   ],
   "source": [
    "ica = FastICA(n_components=3, random_state=0)\n",
    "X_ica = ica.fit_transform(X)\n",
    "X_ica.shape"
   ]
  },
  {
   "cell_type": "code",
   "execution_count": 199,
   "metadata": {},
   "outputs": [],
   "source": [
    "X_ica = np.reshape(X_ica, [217,512,3])\n",
    "X = np.zeros([512,217,3])\n",
    "X[:,:,0] = np.transpose(X_ica[:,:,0])\n",
    "X[:,:,1] = np.transpose(X_ica[:,:,1])\n",
    "X[:,:,2] = np.transpose(X_ica[:,:,2])"
   ]
  },
  {
   "cell_type": "code",
   "execution_count": 200,
   "metadata": {},
   "outputs": [
    {
     "data": {
      "text/plain": [
       "(512, 217, 3)"
      ]
     },
     "execution_count": 200,
     "metadata": {},
     "output_type": "execute_result"
    }
   ],
   "source": [
    "X.shape"
   ]
  },
  {
   "cell_type": "code",
   "execution_count": 201,
   "metadata": {},
   "outputs": [
    {
     "data": {
      "text/plain": [
       "1.0"
      ]
     },
     "execution_count": 201,
     "metadata": {},
     "output_type": "execute_result"
    }
   ],
   "source": [
    "X[:,:,0] = X[:,:,0]/np.max(X[:,:,0])\n",
    "X[:,:,1] = X[:,:,1]/np.max(X[:,:,1])\n",
    "X[:,:,2] = X[:,:,2]/np.max(X[:,:,2])\n",
    "np.max(X[:,:,2])"
   ]
  },
  {
   "cell_type": "code",
   "execution_count": 202,
   "metadata": {},
   "outputs": [
    {
     "data": {
      "text/plain": [
       "True"
      ]
     },
     "execution_count": 202,
     "metadata": {},
     "output_type": "execute_result"
    }
   ],
   "source": [
    "Y = np.transpose(np.reshape(Y,[217,512]))\n",
    "cv2.imwrite(('../Desktop/%s.png' % 'Y'), Y*15)"
   ]
  },
  {
   "cell_type": "code",
   "execution_count": 8,
   "metadata": {},
   "outputs": [],
   "source": [
    "img_w = 64 \n",
    "img_h = 64  \n",
    "\n",
    " X=''\n",
    "image_sets = X_ica\n",
    "    \n",
    "def rotate(xb,yb,angle):\n",
    "    M_rotate = cv2.getRotationMatrix2D((img_w/2, img_h/2), angle, 1)\n",
    "    xb = cv2.warpAffine(xb, M_rotate, (img_w, img_h))\n",
    "    yb = cv2.warpAffine(yb, M_rotate, (img_w, img_h))\n",
    "    return xb,yb\n",
    "    \n",
    "def blur(img):\n",
    "    img = cv2.blur(img, (3, 3));\n",
    "    return img\n",
    " \n",
    "def add_noise(img):\n",
    "    for i in range(25):\n",
    "        temp_x = np.random.randint(0,img.shape[0])\n",
    "        temp_y = np.random.randint(0,img.shape[1])\n",
    "        img[temp_x][temp_y] = 1\n",
    "    return img"
   ]
  },
  {
   "cell_type": "code",
   "execution_count": 9,
   "metadata": {},
   "outputs": [],
   "source": [
    "def data_augment(xb,yb):\n",
    "    if np.random.random() < 0.25:\n",
    "        xb,yb = rotate(xb,yb,90)\n",
    "    if np.random.random() < 0.25:\n",
    "        xb,yb = rotate(xb,yb,180)\n",
    "    if np.random.random() < 0.25:\n",
    "        xb,yb = rotate(xb,yb,270)\n",
    "    if np.random.random() < 0.25:\n",
    "        xb = cv2.flip(xb, 1)  # flipcode > 0：沿y轴翻转\n",
    "        yb = cv2.flip(yb, 1)\n",
    "        \n",
    "    if np.random.random() < 0.25:\n",
    "        xb = blur(xb)\n",
    "    \n",
    "    if np.random.random() < 0.2:\n",
    "        xb = add_noise(xb)\n",
    "        \n",
    "    return xb,yb"
   ]
  },
  {
   "cell_type": "code",
   "execution_count": 10,
   "metadata": {},
   "outputs": [],
   "source": [
    "def creat_dataset(image_num, mode):\n",
    "    print('creating dataset...')\n",
    "    g_count = 0\n",
    "#    for i in tqdm(range(1)):\n",
    "    count = 0\n",
    "        #src_img = cv2.imread('./data/src/' + image_sets[i])  # 3 channels\n",
    "        #label_img = cv2.imread('./data/label/' + image_sets[i],cv2.IMREAD_GRAYSCALE)  # single channel\n",
    "    src_img = X*255 #0-1\n",
    "    label_img = Y\n",
    "    X_height,X_width,_ = src_img.shape\n",
    "    while count < image_num:\n",
    "        random_width = random.randint(0, X_width - img_w - 1)\n",
    "        random_height = random.randint(0, X_height - img_h - 1)\n",
    "        src_roi = src_img[random_height: random_height + img_h, random_width: random_width + img_w,:]\n",
    "        label_roi = label_img[random_height: random_height + img_h, random_width: random_width + img_w]\n",
    "        if mode == 'augment':\n",
    "            src_roi,label_roi = data_augment(src_roi,label_roi)\n",
    "            \n",
    "        visualize = np.zeros((32img_w,32img_h)).astype(np.uint8)\n",
    "    #    visualize = np.zeros((32img_w,32img_h)).astype(np.uint8)\n",
    "        visualize = label_roi *16-1\n",
    "            \n",
    "        cv2.imwrite(('../Desktop/Train/visualize/%d.png' % g_count),visualize)\n",
    "        cv2.imwrite(('../Desktop/Train/src/%d.png' % g_count),src_roi)\n",
    "        cv2.imwrite(('../Desktop/Train/label/%d.png' % g_count),label_roi)\n",
    "        count += 1 \n",
    "        g_count += 1"
   ]
  },
  {
   "cell_type": "code",
   "execution_count": 93,
   "metadata": {},
   "outputs": [
    {
     "name": "stdout",
     "output_type": "stream",
     "text": [
      "creating dataset...\n"
     ]
    }
   ],
   "source": [
    "creat_dataset(5000, 'augment')#50"
   ]
  },
  {
   "cell_type": "code",
   "execution_count": 75,
   "metadata": {},
   "outputs": [],
   "source": [
    "from keras.datasets import mnist\n",
    "from keras.preprocessing.image import load_img, array_to_img, img_to_array\n",
    "from sklearn.preprocessing import LabelEncoder\n",
    "from keras.utils.np_utils import to_categorical\n",
    "from keras.models import Sequential\n",
    "from keras.layers import Conv2D, MaxPooling2D, Flatten, Dense, BatchNormalization, UpSampling2D, Reshape, Permute, Activation\n",
    "from keras.callbacks import ModelCheckpoint\n",
    "\n",
    "import numpy as np\n",
    "import matplotlib.pyplot as plt\n",
    "import os\n",
    "%matplotlib inline"
   ]
  },
  {
   "cell_type": "code",
   "execution_count": 76,
   "metadata": {},
   "outputs": [],
   "source": [
    "def SegNet():  \n",
    "    model = Sequential()  \n",
    "    #encoder  \n",
    "    model.add(Conv2D(64,(3,3),strides=(1,1),input_shape=(img_w,img_h,3),padding='same',activation='relu'))  \n",
    "    model.add(BatchNormalization())  \n",
    "    model.add(Conv2D(64,(3,3),strides=(1,1),padding='same',activation='relu'))  \n",
    "    model.add(BatchNormalization())  \n",
    "    model.add(MaxPooling2D(pool_size=(2,2)))  \n",
    "    #(64,64)  \n",
    "    model.add(Conv2D(128, (3, 3), strides=(1, 1), padding='same', activation='relu'))  \n",
    "    model.add(BatchNormalization())  \n",
    "    model.add(Conv2D(128, (3, 3), strides=(1, 1), padding='same', activation='relu'))  \n",
    "    model.add(BatchNormalization())  \n",
    "    model.add(MaxPooling2D(pool_size=(2, 2)))  \n",
    "    #(32,32)  \n",
    "    model.add(Conv2D(256, (3, 3), strides=(1, 1), padding='same', activation='relu'))  \n",
    "    model.add(BatchNormalization())  \n",
    "    model.add(Conv2D(256, (3, 3), strides=(1, 1), padding='same', activation='relu'))  \n",
    "    model.add(BatchNormalization())  \n",
    "    model.add(Conv2D(256, (3, 3), strides=(1, 1), padding='same', activation='relu'))  \n",
    "    model.add(BatchNormalization())  \n",
    "    model.add(MaxPooling2D(pool_size=(2, 2)))  \n",
    "    #(16,16)  \n",
    "    model.add(Conv2D(512, (3, 3), strides=(1, 1), padding='same', activation='relu'))  \n",
    "    model.add(BatchNormalization())  \n",
    "    model.add(Conv2D(512, (3, 3), strides=(1, 1), padding='same', activation='relu'))  \n",
    "    model.add(BatchNormalization())  \n",
    "    model.add(Conv2D(512, (3, 3), strides=(1, 1), padding='same', activation='relu'))  \n",
    "    model.add(BatchNormalization())  \n",
    "    model.add(MaxPooling2D(pool_size=(2, 2)))  \n",
    "    #(8,8)  \n",
    "    model.add(Conv2D(512, (3, 3), strides=(1, 1), padding='same', activation='relu'))  \n",
    "    model.add(BatchNormalization())  \n",
    "    model.add(Conv2D(512, (3, 3), strides=(1, 1), padding='same', activation='relu'))  \n",
    "    model.add(BatchNormalization())  \n",
    "    model.add(Conv2D(512, (3, 3), strides=(1, 1), padding='same', activation='relu'))  \n",
    "    model.add(BatchNormalization())  \n",
    "    model.add(MaxPooling2D(pool_size=(2, 2)))  \n",
    "    #(4,4)  \n",
    "    #decoder  \n",
    "    model.add(UpSampling2D(size=(2,2)))  \n",
    "    #(8,8)  \n",
    "    model.add(Conv2D(512, (3, 3), strides=(1, 1), padding='same', activation='relu'))  \n",
    "    model.add(BatchNormalization())  \n",
    "    model.add(Conv2D(512, (3, 3), strides=(1, 1), padding='same', activation='relu'))  \n",
    "    model.add(BatchNormalization())  \n",
    "    model.add(Conv2D(512, (3, 3), strides=(1, 1), padding='same', activation='relu'))  \n",
    "    model.add(BatchNormalization())  \n",
    "    model.add(UpSampling2D(size=(2, 2)))  \n",
    "    #(16,16)  \n",
    "    model.add(Conv2D(512, (3, 3), strides=(1, 1), padding='same', activation='relu'))  \n",
    "    model.add(BatchNormalization())  \n",
    "    model.add(Conv2D(512, (3, 3), strides=(1, 1), padding='same', activation='relu'))  \n",
    "    model.add(BatchNormalization())  \n",
    "    model.add(Conv2D(512, (3, 3), strides=(1, 1), padding='same', activation='relu'))  \n",
    "    model.add(BatchNormalization())  \n",
    "    model.add(UpSampling2D(size=(2, 2)))  \n",
    "    #(32,32)  \n",
    "    model.add(Conv2D(256, (3, 3), strides=(1, 1), padding='same', activation='relu'))  \n",
    "    model.add(BatchNormalization())  \n",
    "    model.add(Conv2D(256, (3, 3), strides=(1, 1), padding='same', activation='relu'))  \n",
    "    model.add(BatchNormalization())  \n",
    "    model.add(Conv2D(256, (3, 3), strides=(1, 1), padding='same', activation='relu'))  \n",
    "    model.add(BatchNormalization())  \n",
    "    model.add(UpSampling2D(size=(2, 2)))  \n",
    "    #(64,64)  \n",
    "    model.add(Conv2D(128, (3, 3), strides=(1, 1), padding='same', activation='relu'))  \n",
    "    model.add(BatchNormalization())  \n",
    "    model.add(Conv2D(128, (3, 3), strides=(1, 1), padding='same', activation='relu'))  \n",
    "    model.add(BatchNormalization())  \n",
    "    model.add(UpSampling2D(size=(2, 2)))  \n",
    "    #(128,128)  \n",
    "    model.add(Conv2D(64, (3, 3), strides=(1, 1), input_shape=(3,img_w, img_h), padding='same', activation='relu'))  \n",
    "    model.add(BatchNormalization())  \n",
    "    model.add(Conv2D(64, (3, 3), strides=(1, 1), padding='same', activation='relu'))  \n",
    "    model.add(BatchNormalization())  \n",
    "    model.add(Conv2D(n_label, (1, 1), strides=(1, 1), padding='same'))  \n",
    "    model.add(Reshape((n_label,img_w*img_h)))  \n",
    "    #axis=1和axis=2互换位置，等同于np.swapaxes(layer,1,2)  \n",
    "    model.add(Permute((2,1)))  \n",
    "    model.add(Activation('softmax'))  \n",
    "    model.compile(loss='categorical_crossentropy',optimizer='sgd',metrics=['accuracy'])  \n",
    "    model.summary()  \n",
    "    return model "
   ]
  },
  {
   "cell_type": "code",
   "execution_count": 77,
   "metadata": {},
   "outputs": [],
   "source": [
    "def get_train_val(val_rate = 0.25):\n",
    "    train_url = []    \n",
    "    train_set = []\n",
    "    val_set  = []\n",
    "    for pic in os.listdir(filepath + 'src'):\n",
    "        train_url.append(pic)\n",
    "    random.shuffle(train_url)\n",
    "    total_num = len(train_url)\n",
    "    val_num = int(val_rate * total_num)\n",
    "    for i in range(len(train_url)):\n",
    "        if i < val_num:\n",
    "            val_set.append(train_url[i]) \n",
    "        else:\n",
    "            train_set.append(train_url[i])\n",
    "    return train_set,val_set\n",
    "    \n",
    "# data for training  \n",
    "def generateData(batch_size,data=[]):  \n",
    "    #print 'generateData...'\n",
    "    while True:  \n",
    "        train_data = []  \n",
    "        train_label = []  \n",
    "        batch = 0  \n",
    "        for i in (range(len(data))): \n",
    "            url = data[i]\n",
    "            batch += 1 \n",
    "            #print (filepath + 'src/' + url)\n",
    "            #img = load_img(filepath + 'src/' + url, target_size=(img_w, img_h))  \n",
    "            img = load_img(filepath + 'src/' + url)\n",
    "            img = img_to_array(img) \n",
    "            # print img\n",
    "            # print img.shape  \n",
    "            train_data.append(img)  \n",
    "            #label = load_img(filepath + 'label/' + url, target_size=(img_w, img_h),grayscale=True)\n",
    "            label = load_img(filepath + 'label/' + url, grayscale=True)\n",
    "            label = img_to_array(label).reshape((img_w * img_h,))  \n",
    "            # print label.shape  \n",
    "            train_label.append(label)  \n",
    "            if batch % batch_size==0: \n",
    "                #print 'get enough bacth!\\n'\n",
    "                train_data = np.array(train_data)  \n",
    "                train_label = np.array(train_label).flatten()  \n",
    "                #train_label = LabelEncoder.fit_transform(train_label)  \n",
    "                train_label = to_categorical(train_label, num_classes=n_label)  \n",
    "                train_label = train_label.reshape((batch_size,img_w * img_h,n_label))  \n",
    "                yield (train_data,train_label)  \n",
    "                train_data = []  \n",
    "                train_label = []  \n",
    "                batch = 0  \n",
    "\n",
    "# data for validation \n",
    "def generateValidData(batch_size,data=[]):  \n",
    "    #print 'generateValidData...'\n",
    "    while True:  \n",
    "        valid_data = []  \n",
    "        valid_label = []  \n",
    "        batch = 0  \n",
    "        for i in (range(len(data))):  \n",
    "            url = data[i]\n",
    "            batch += 1  \n",
    "            #img = load_img(filepath + 'src/' + url, target_size=(img_w, img_h))\n",
    "            img = load_img(filepath + 'src/' + url)\n",
    "            #print img\n",
    "            #print (filepath + 'src/' + url)\n",
    "            img = img_to_array(img)  \n",
    "            # print img.shape  \n",
    "            valid_data.append(img)  \n",
    "            #label = load_img(filepath + 'label/' + url, target_size=(img_w, img_h),grayscale=True)\n",
    "            label = load_img(filepath + 'label/' + url, grayscale=True)\n",
    "            label = img_to_array(label).reshape((img_w * img_h,))  \n",
    "            # print label.shape  \n",
    "            valid_label.append(label)  \n",
    "            if batch % batch_size==0:  \n",
    "                valid_data = np.array(valid_data)  \n",
    "                valid_label = np.array(valid_label).flatten()  \n",
    "                #valid_label = LabelEncoder.fit_transform(valid_label)  \n",
    "                valid_label = to_categorical(valid_label, num_classes=n_label)  \n",
    "                valid_label = valid_label.reshape((batch_size,img_w * img_h,n_label))  \n",
    "                yield (valid_data,valid_label)  \n",
    "                valid_data = []  \n",
    "                valid_label = []  \n",
    "                batch = 0"
   ]
  },
  {
   "cell_type": "code",
   "execution_count": 79,
   "metadata": {
    "scrolled": true
   },
   "outputs": [
    {
     "name": "stdout",
     "output_type": "stream",
     "text": [
      "Model: \"sequential_30\"\n",
      "_________________________________________________________________\n",
      "Layer (type)                 Output Shape              Param #   \n",
      "=================================================================\n",
      "conv2d_655 (Conv2D)          (None, 64, 64, 64)        1792      \n",
      "_________________________________________________________________\n",
      "batch_normalization_633 (Bat (None, 64, 64, 64)        256       \n",
      "_________________________________________________________________\n",
      "conv2d_656 (Conv2D)          (None, 64, 64, 64)        36928     \n",
      "_________________________________________________________________\n",
      "batch_normalization_634 (Bat (None, 64, 64, 64)        256       \n",
      "_________________________________________________________________\n",
      "max_pooling2d_128 (MaxPoolin (None, 32, 32, 64)        0         \n",
      "_________________________________________________________________\n",
      "conv2d_657 (Conv2D)          (None, 32, 32, 128)       73856     \n",
      "_________________________________________________________________\n",
      "batch_normalization_635 (Bat (None, 32, 32, 128)       512       \n",
      "_________________________________________________________________\n",
      "conv2d_658 (Conv2D)          (None, 32, 32, 128)       147584    \n",
      "_________________________________________________________________\n",
      "batch_normalization_636 (Bat (None, 32, 32, 128)       512       \n",
      "_________________________________________________________________\n",
      "max_pooling2d_129 (MaxPoolin (None, 16, 16, 128)       0         \n",
      "_________________________________________________________________\n",
      "conv2d_659 (Conv2D)          (None, 16, 16, 256)       295168    \n",
      "_________________________________________________________________\n",
      "batch_normalization_637 (Bat (None, 16, 16, 256)       1024      \n",
      "_________________________________________________________________\n",
      "conv2d_660 (Conv2D)          (None, 16, 16, 256)       590080    \n",
      "_________________________________________________________________\n",
      "batch_normalization_638 (Bat (None, 16, 16, 256)       1024      \n",
      "_________________________________________________________________\n",
      "conv2d_661 (Conv2D)          (None, 16, 16, 256)       590080    \n",
      "_________________________________________________________________\n",
      "batch_normalization_639 (Bat (None, 16, 16, 256)       1024      \n",
      "_________________________________________________________________\n",
      "max_pooling2d_130 (MaxPoolin (None, 8, 8, 256)         0         \n",
      "_________________________________________________________________\n",
      "conv2d_662 (Conv2D)          (None, 8, 8, 512)         1180160   \n",
      "_________________________________________________________________\n",
      "batch_normalization_640 (Bat (None, 8, 8, 512)         2048      \n",
      "_________________________________________________________________\n",
      "conv2d_663 (Conv2D)          (None, 8, 8, 512)         2359808   \n",
      "_________________________________________________________________\n",
      "batch_normalization_641 (Bat (None, 8, 8, 512)         2048      \n",
      "_________________________________________________________________\n",
      "conv2d_664 (Conv2D)          (None, 8, 8, 512)         2359808   \n",
      "_________________________________________________________________\n",
      "batch_normalization_642 (Bat (None, 8, 8, 512)         2048      \n",
      "_________________________________________________________________\n",
      "max_pooling2d_131 (MaxPoolin (None, 4, 4, 512)         0         \n",
      "_________________________________________________________________\n",
      "conv2d_665 (Conv2D)          (None, 4, 4, 512)         2359808   \n",
      "_________________________________________________________________\n",
      "batch_normalization_643 (Bat (None, 4, 4, 512)         2048      \n",
      "_________________________________________________________________\n",
      "conv2d_666 (Conv2D)          (None, 4, 4, 512)         2359808   \n",
      "_________________________________________________________________\n",
      "batch_normalization_644 (Bat (None, 4, 4, 512)         2048      \n",
      "_________________________________________________________________\n",
      "conv2d_667 (Conv2D)          (None, 4, 4, 512)         2359808   \n",
      "_________________________________________________________________\n",
      "batch_normalization_645 (Bat (None, 4, 4, 512)         2048      \n",
      "_________________________________________________________________\n",
      "max_pooling2d_132 (MaxPoolin (None, 2, 2, 512)         0         \n",
      "_________________________________________________________________\n",
      "up_sampling2d_115 (UpSamplin (None, 4, 4, 512)         0         \n",
      "_________________________________________________________________\n",
      "conv2d_668 (Conv2D)          (None, 4, 4, 512)         2359808   \n",
      "_________________________________________________________________\n",
      "batch_normalization_646 (Bat (None, 4, 4, 512)         2048      \n",
      "_________________________________________________________________\n",
      "conv2d_669 (Conv2D)          (None, 4, 4, 512)         2359808   \n",
      "_________________________________________________________________\n",
      "batch_normalization_647 (Bat (None, 4, 4, 512)         2048      \n",
      "_________________________________________________________________\n",
      "conv2d_670 (Conv2D)          (None, 4, 4, 512)         2359808   \n",
      "_________________________________________________________________\n",
      "batch_normalization_648 (Bat (None, 4, 4, 512)         2048      \n",
      "_________________________________________________________________\n",
      "up_sampling2d_116 (UpSamplin (None, 8, 8, 512)         0         \n",
      "_________________________________________________________________\n",
      "conv2d_671 (Conv2D)          (None, 8, 8, 512)         2359808   \n",
      "_________________________________________________________________\n",
      "batch_normalization_649 (Bat (None, 8, 8, 512)         2048      \n",
      "_________________________________________________________________\n",
      "conv2d_672 (Conv2D)          (None, 8, 8, 512)         2359808   \n",
      "_________________________________________________________________\n",
      "batch_normalization_650 (Bat (None, 8, 8, 512)         2048      \n",
      "_________________________________________________________________\n",
      "conv2d_673 (Conv2D)          (None, 8, 8, 512)         2359808   \n",
      "_________________________________________________________________\n",
      "batch_normalization_651 (Bat (None, 8, 8, 512)         2048      \n",
      "_________________________________________________________________\n",
      "up_sampling2d_117 (UpSamplin (None, 16, 16, 512)       0         \n",
      "_________________________________________________________________\n",
      "conv2d_674 (Conv2D)          (None, 16, 16, 256)       1179904   \n",
      "_________________________________________________________________\n",
      "batch_normalization_652 (Bat (None, 16, 16, 256)       1024      \n",
      "_________________________________________________________________\n",
      "conv2d_675 (Conv2D)          (None, 16, 16, 256)       590080    \n",
      "_________________________________________________________________\n",
      "batch_normalization_653 (Bat (None, 16, 16, 256)       1024      \n",
      "_________________________________________________________________\n",
      "conv2d_676 (Conv2D)          (None, 16, 16, 256)       590080    \n",
      "_________________________________________________________________\n",
      "batch_normalization_654 (Bat (None, 16, 16, 256)       1024      \n",
      "_________________________________________________________________\n",
      "up_sampling2d_118 (UpSamplin (None, 32, 32, 256)       0         \n",
      "_________________________________________________________________\n",
      "conv2d_677 (Conv2D)          (None, 32, 32, 128)       295040    \n",
      "_________________________________________________________________\n",
      "batch_normalization_655 (Bat (None, 32, 32, 128)       512       \n",
      "_________________________________________________________________\n",
      "conv2d_678 (Conv2D)          (None, 32, 32, 128)       147584    \n",
      "_________________________________________________________________\n",
      "batch_normalization_656 (Bat (None, 32, 32, 128)       512       \n",
      "_________________________________________________________________\n",
      "up_sampling2d_119 (UpSamplin (None, 64, 64, 128)       0         \n",
      "_________________________________________________________________\n",
      "conv2d_679 (Conv2D)          (None, 64, 64, 64)        73792     \n",
      "_________________________________________________________________\n",
      "batch_normalization_657 (Bat (None, 64, 64, 64)        256       \n",
      "_________________________________________________________________\n",
      "conv2d_680 (Conv2D)          (None, 64, 64, 64)        36928     \n",
      "_________________________________________________________________\n",
      "batch_normalization_658 (Bat (None, 64, 64, 64)        256       \n",
      "_________________________________________________________________\n",
      "conv2d_681 (Conv2D)          (None, 64, 64, 17)        1105      \n",
      "_________________________________________________________________\n",
      "reshape_19 (Reshape)         (None, 17, 4096)          0         \n",
      "_________________________________________________________________\n",
      "permute_18 (Permute)         (None, 4096, 17)          0         \n",
      "_________________________________________________________________\n",
      "activation_17 (Activation)   (None, 4096, 17)          0         \n",
      "=================================================================\n",
      "Total params: 31,821,841\n",
      "Trainable params: 31,804,945\n",
      "Non-trainable params: 16,896\n",
      "_________________________________________________________________\n",
      "the number of train data is 3750\n",
      "the number of val data is 1250\n"
     ]
    }
   ],
   "source": [
    "EPOCHS = 50\n",
    "BS = 25\n",
    "n_label = 17\n",
    "args = {'model':[]}\n",
    "filepath = '../Desktop/Train/'\n",
    "model = SegNet()  \n",
    "modelcheck = ModelCheckpoint(args['model'],monitor='val_acc',save_best_only=True,mode='max')  \n",
    "callable = [modelcheck]  \n",
    "train_set,val_set = get_train_val()\n",
    "train_numb = len(train_set)  \n",
    "valid_numb = len(val_set)  \n",
    "print (\"the number of train data is\",train_numb)  \n",
    "print (\"the number of val data is\",valid_numb)"
   ]
  },
  {
   "cell_type": "code",
   "execution_count": 80,
   "metadata": {
    "scrolled": true
   },
   "outputs": [
    {
     "name": "stdout",
     "output_type": "stream",
     "text": [
      "Epoch 1/50\n",
      "150/150 [==============================] - 406s 3s/step - loss: 1.9302 - accuracy: 0.4293 - val_loss: 2.1747 - val_accuracy: 0.4555\n",
      "Epoch 2/50\n",
      "150/150 [==============================] - 372s 2s/step - loss: 1.1137 - accuracy: 0.6118 - val_loss: 1.3262 - val_accuracy: 0.5614\n",
      "Epoch 3/50\n",
      "150/150 [==============================] - 373s 2s/step - loss: 0.9491 - accuracy: 0.6492 - val_loss: 0.8981 - val_accuracy: 0.6640\n",
      "Epoch 4/50\n",
      "150/150 [==============================] - 374s 2s/step - loss: 0.8528 - accuracy: 0.6722 - val_loss: 0.8376 - val_accuracy: 0.6781\n",
      "Epoch 5/50\n",
      "150/150 [==============================] - 373s 2s/step - loss: 0.7923 - accuracy: 0.6848 - val_loss: 0.7947 - val_accuracy: 0.6864\n",
      "Epoch 6/50\n",
      "150/150 [==============================] - 373s 2s/step - loss: 0.7547 - accuracy: 0.6923 - val_loss: 0.7731 - val_accuracy: 0.6898\n",
      "Epoch 7/50\n",
      "150/150 [==============================] - 381s 3s/step - loss: 0.7305 - accuracy: 0.6964 - val_loss: 0.7560 - val_accuracy: 0.6933\n",
      "Epoch 8/50\n",
      "150/150 [==============================] - 370s 2s/step - loss: 0.7219 - accuracy: 0.6968 - val_loss: 0.7897 - val_accuracy: 0.6853\n",
      "Epoch 9/50\n",
      "150/150 [==============================] - 367s 2s/step - loss: 0.7032 - accuracy: 0.7012 - val_loss: 0.7381 - val_accuracy: 0.6971\n",
      "Epoch 10/50\n",
      "150/150 [==============================] - 370s 2s/step - loss: 0.6852 - accuracy: 0.7052 - val_loss: 0.7362 - val_accuracy: 0.6977\n",
      "Epoch 11/50\n",
      "150/150 [==============================] - 381s 3s/step - loss: 0.6729 - accuracy: 0.7081 - val_loss: 0.7234 - val_accuracy: 0.7004\n",
      "Epoch 12/50\n",
      "150/150 [==============================] - 375s 2s/step - loss: 0.6630 - accuracy: 0.7108 - val_loss: 0.7255 - val_accuracy: 0.7007\n",
      "Epoch 13/50\n",
      "150/150 [==============================] - 371s 2s/step - loss: 0.6547 - accuracy: 0.7131 - val_loss: 0.7149 - val_accuracy: 0.7032\n",
      "Epoch 14/50\n",
      "150/150 [==============================] - 372s 2s/step - loss: 0.6457 - accuracy: 0.7169 - val_loss: 0.7159 - val_accuracy: 0.7050\n",
      "Epoch 15/50\n",
      "150/150 [==============================] - 377s 3s/step - loss: 0.6341 - accuracy: 0.7222 - val_loss: 0.6997 - val_accuracy: 0.7099\n",
      "Epoch 16/50\n",
      "150/150 [==============================] - 414s 3s/step - loss: 0.6174 - accuracy: 0.7318 - val_loss: 0.6879 - val_accuracy: 0.7183\n",
      "Epoch 17/50\n",
      "150/150 [==============================] - 403s 3s/step - loss: 0.5934 - accuracy: 0.7461 - val_loss: 0.6566 - val_accuracy: 0.7328\n",
      "Epoch 18/50\n",
      "150/150 [==============================] - 428s 3s/step - loss: 0.5648 - accuracy: 0.7618 - val_loss: 0.6471 - val_accuracy: 0.7416\n",
      "Epoch 19/50\n",
      "150/150 [==============================] - 392s 3s/step - loss: 0.5392 - accuracy: 0.7748 - val_loss: 0.6288 - val_accuracy: 0.7500\n",
      "Epoch 20/50\n",
      "150/150 [==============================] - 381s 3s/step - loss: 0.5157 - accuracy: 0.7855 - val_loss: 0.6240 - val_accuracy: 0.7541\n",
      "Epoch 21/50\n",
      "150/150 [==============================] - 373s 2s/step - loss: 0.4933 - accuracy: 0.7952 - val_loss: 0.6129 - val_accuracy: 0.7594\n",
      "Epoch 22/50\n",
      "150/150 [==============================] - 382s 3s/step - loss: 0.4746 - accuracy: 0.8033 - val_loss: 0.5953 - val_accuracy: 0.7653\n",
      "Epoch 23/50\n",
      "150/150 [==============================] - 400s 3s/step - loss: 0.4576 - accuracy: 0.8106 - val_loss: 0.5974 - val_accuracy: 0.7675\n",
      "Epoch 24/50\n",
      "150/150 [==============================] - 372s 2s/step - loss: 0.4426 - accuracy: 0.8168 - val_loss: 0.5852 - val_accuracy: 0.7723\n",
      "Epoch 25/50\n",
      "150/150 [==============================] - 373s 2s/step - loss: 0.4291 - accuracy: 0.8225 - val_loss: 0.5773 - val_accuracy: 0.7754\n",
      "Epoch 26/50\n",
      "150/150 [==============================] - 378s 3s/step - loss: 0.4151 - accuracy: 0.8283 - val_loss: 0.5667 - val_accuracy: 0.7796\n",
      "Epoch 27/50\n",
      "150/150 [==============================] - 375s 2s/step - loss: 0.4013 - accuracy: 0.8343 - val_loss: 0.5739 - val_accuracy: 0.7813\n",
      "Epoch 28/50\n",
      "150/150 [==============================] - 391s 3s/step - loss: 0.3904 - accuracy: 0.8388 - val_loss: 0.5533 - val_accuracy: 0.7852\n",
      "Epoch 29/50\n",
      "150/150 [==============================] - 374s 2s/step - loss: 0.3806 - accuracy: 0.8427 - val_loss: 0.5649 - val_accuracy: 0.7866\n",
      "Epoch 30/50\n",
      "150/150 [==============================] - 378s 3s/step - loss: 0.3716 - accuracy: 0.8464 - val_loss: 0.5381 - val_accuracy: 0.7930\n",
      "Epoch 31/50\n",
      "150/150 [==============================] - 373s 2s/step - loss: 0.3630 - accuracy: 0.8501 - val_loss: 0.5592 - val_accuracy: 0.7903\n",
      "Epoch 32/50\n",
      "150/150 [==============================] - 371s 2s/step - loss: 0.3552 - accuracy: 0.8532 - val_loss: 0.5244 - val_accuracy: 0.7994\n",
      "Epoch 33/50\n",
      "150/150 [==============================] - 369s 2s/step - loss: 0.3458 - accuracy: 0.8572 - val_loss: 0.5285 - val_accuracy: 0.7983\n",
      "Epoch 34/50\n",
      "150/150 [==============================] - 377s 3s/step - loss: 0.3381 - accuracy: 0.8604 - val_loss: 0.5246 - val_accuracy: 0.8004\n",
      "Epoch 35/50\n",
      "150/150 [==============================] - 380s 3s/step - loss: 0.3309 - accuracy: 0.8633 - val_loss: 0.5166 - val_accuracy: 0.8047\n",
      "Epoch 36/50\n",
      "150/150 [==============================] - 377s 3s/step - loss: 0.3242 - accuracy: 0.8660 - val_loss: 0.5122 - val_accuracy: 0.8058\n",
      "Epoch 37/50\n",
      "150/150 [==============================] - 379s 3s/step - loss: 0.3193 - accuracy: 0.8680 - val_loss: 0.5181 - val_accuracy: 0.8066\n",
      "Epoch 38/50\n",
      "150/150 [==============================] - 380s 3s/step - loss: 0.3138 - accuracy: 0.8702 - val_loss: 0.5111 - val_accuracy: 0.8092\n",
      "Epoch 39/50\n",
      "150/150 [==============================] - 384s 3s/step - loss: 0.3063 - accuracy: 0.8733 - val_loss: 0.5085 - val_accuracy: 0.8090\n",
      "Epoch 40/50\n",
      "150/150 [==============================] - 379s 3s/step - loss: 0.2992 - accuracy: 0.8762 - val_loss: 0.4990 - val_accuracy: 0.8127\n",
      "Epoch 41/50\n",
      "150/150 [==============================] - 381s 3s/step - loss: 0.2940 - accuracy: 0.8785 - val_loss: 0.5056 - val_accuracy: 0.8128\n",
      "Epoch 42/50\n",
      "150/150 [==============================] - 373s 2s/step - loss: 0.2906 - accuracy: 0.8796 - val_loss: 0.4979 - val_accuracy: 0.8148\n",
      "Epoch 43/50\n",
      "150/150 [==============================] - 372s 2s/step - loss: 0.2874 - accuracy: 0.8809 - val_loss: 0.4966 - val_accuracy: 0.8181\n",
      "Epoch 44/50\n",
      "150/150 [==============================] - 377s 3s/step - loss: 0.2820 - accuracy: 0.8833 - val_loss: 0.4892 - val_accuracy: 0.8184\n",
      "Epoch 45/50\n",
      "150/150 [==============================] - 378s 3s/step - loss: 0.2770 - accuracy: 0.8852 - val_loss: 0.4916 - val_accuracy: 0.8202\n",
      "Epoch 46/50\n",
      "150/150 [==============================] - 382s 3s/step - loss: 0.2732 - accuracy: 0.8868 - val_loss: 0.4876 - val_accuracy: 0.8205\n",
      "Epoch 47/50\n",
      "150/150 [==============================] - 395s 3s/step - loss: 0.2692 - accuracy: 0.8885 - val_loss: 0.4914 - val_accuracy: 0.8199\n",
      "Epoch 48/50\n",
      "150/150 [==============================] - 382s 3s/step - loss: 0.2629 - accuracy: 0.8911 - val_loss: 0.4835 - val_accuracy: 0.8224\n",
      "Epoch 49/50\n",
      "150/150 [==============================] - 384s 3s/step - loss: 0.2607 - accuracy: 0.8917 - val_loss: 0.4906 - val_accuracy: 0.8234\n",
      "Epoch 50/50\n",
      "150/150 [==============================] - 386s 3s/step - loss: 0.2589 - accuracy: 0.8926 - val_loss: 0.4826 - val_accuracy: 0.8239\n"
     ]
    }
   ],
   "source": [
    "H = model.fit(generateData(BS,train_set),steps_per_epoch=train_numb//BS,epochs=EPOCHS,\n",
    "              validation_data=generateValidData(BS,val_set),validation_steps=valid_numb//BS)  "
   ]
  },
  {
   "cell_type": "code",
   "execution_count": 95,
   "metadata": {},
   "outputs": [
    {
     "data": {
      "text/plain": [
       "<matplotlib.legend.Legend at 0x7fc4d20427f0>"
      ]
     },
     "execution_count": 95,
     "metadata": {},
     "output_type": "execute_result"
    },
    {
     "data": {
      "image/png": "[encoded data removed]",
      "text/plain": [
       "<Figure size 432x288 with 1 Axes>"
      ]
     },
     "metadata": {},
     "output_type": "display_data"
    }
   ],
   "source": [
    "plt.plot(H.history['accuracy'], label = \"training accuracy\")\n",
    "plt.plot(H.history['val_accuracy'], label = \"testing accuray\")\n",
    "plt.ylim(0.5,1)\n",
    "plt.title(\"Accuracy on SegNet\")\n",
    "plt.xlabel(\"Epoch #\")\n",
    "plt.ylabel(\"Accuracy\")\n",
    "plt.legend(loc = 4)"
   ]
  },
  {
   "cell_type": "code",
   "execution_count": 83,
   "metadata": {},
   "outputs": [],
   "source": [
    "train_acc = H.history['accuracy']\n",
    "test_acc = H.history['val_accuracy']"
   ]
  },
  {
   "cell_type": "code",
   "execution_count": 162,
   "metadata": {},
   "outputs": [],
   "source": [
    "# model.save(\"segnet.h5\")\n",
    "model.load_weights(\"segnet.h5\")"
   ]
  },
  {
   "cell_type": "code",
   "execution_count": 90,
   "metadata": {
    "scrolled": true
   },
   "outputs": [
    {
     "data": {
      "text/plain": [
       "<matplotlib.legend.Legend at 0x7fc4d141ccd0>"
      ]
     },
     "execution_count": 90,
     "metadata": {},
     "output_type": "execute_result"
    },
    {
     "data": {
      "image/png": "[encoded data removed]",
      "text/plain": [
       "<Figure size 432x288 with 1 Axes>"
      ]
     },
     "metadata": {},
     "output_type": "display_data"
    }
   ],
   "source": [
    "# plot the training loss and accuracy\n",
    "#plt.style.use(\"ggplot\")\n",
    "plt.figure()\n",
    "N = EPOCHS\n",
    "plt.plot(np.arange(0, N), H.history[\"loss\"], label=\"train_loss\")\n",
    "plt.plot(np.arange(0, N), H.history[\"val_loss\"], label=\"val_loss\")\n",
    "#plt.plot(np.arange(0, N), H.history[\"accuracy\"], label=\"train_acc\")\n",
    "#plt.plot(np.arange(0, N), H.history[\"val_accuracy\"], label=\"val_acc\")\n",
    "plt.title(\"Loss on SegNet\")\n",
    "plt.xlabel(\"Epoch #\")\n",
    "plt.ylabel(\"Loss\")\n",
    "plt.legend(loc=\"lower left\")\n",
    "#plt.savefig(args[\"plot\"])"
   ]
  },
  {
   "cell_type": "code",
   "execution_count": 96,
   "metadata": {
    "scrolled": true
   },
   "outputs": [
    {
     "name": "stdout",
     "output_type": "stream",
     "text": [
      "Epoch 1/50\n",
      "150/150 [==============================] - 419s 3s/step - loss: 0.6383 - accuracy: 0.7631 - val_loss: 0.4800 - val_accuracy: 0.8107\n",
      "Epoch 2/50\n",
      "150/150 [==============================] - 377s 3s/step - loss: 0.4476 - accuracy: 0.8202 - val_loss: 0.4271 - val_accuracy: 0.8306\n",
      "Epoch 3/50\n",
      "150/150 [==============================] - 376s 3s/step - loss: 0.3764 - accuracy: 0.8470 - val_loss: 0.4174 - val_accuracy: 0.8358\n",
      "Epoch 4/50\n",
      "150/150 [==============================] - 376s 3s/step - loss: 0.3351 - accuracy: 0.8631 - val_loss: 0.4407 - val_accuracy: 0.8342\n",
      "Epoch 5/50\n",
      "150/150 [==============================] - 378s 3s/step - loss: 0.3091 - accuracy: 0.8735 - val_loss: 0.4174 - val_accuracy: 0.8404\n",
      "Epoch 6/50\n",
      "150/150 [==============================] - 378s 3s/step - loss: 0.2930 - accuracy: 0.8797 - val_loss: 0.4165 - val_accuracy: 0.8422\n",
      "Epoch 7/50\n",
      "150/150 [==============================] - 383s 3s/step - loss: 0.2833 - accuracy: 0.8836 - val_loss: 0.4072 - val_accuracy: 0.8454\n",
      "Epoch 8/50\n",
      "150/150 [==============================] - 379s 3s/step - loss: 0.2792 - accuracy: 0.8850 - val_loss: 0.4125 - val_accuracy: 0.8433\n",
      "Epoch 9/50\n",
      "150/150 [==============================] - 379s 3s/step - loss: 0.2765 - accuracy: 0.8866 - val_loss: 0.4225 - val_accuracy: 0.8422\n",
      "Epoch 10/50\n",
      "150/150 [==============================] - 380s 3s/step - loss: 0.2682 - accuracy: 0.8894 - val_loss: 0.4133 - val_accuracy: 0.8455\n",
      "Epoch 11/50\n",
      "150/150 [==============================] - 379s 3s/step - loss: 0.2572 - accuracy: 0.8939 - val_loss: 0.3972 - val_accuracy: 0.8496\n",
      "Epoch 12/50\n",
      "150/150 [==============================] - 380s 3s/step - loss: 0.2515 - accuracy: 0.8961 - val_loss: 0.3873 - val_accuracy: 0.8523\n",
      "Epoch 13/50\n",
      "150/150 [==============================] - 377s 3s/step - loss: 0.2472 - accuracy: 0.8979 - val_loss: 0.3814 - val_accuracy: 0.8547\n",
      "Epoch 14/50\n",
      "150/150 [==============================] - 382s 3s/step - loss: 0.2412 - accuracy: 0.9004 - val_loss: 0.3868 - val_accuracy: 0.8541\n",
      "Epoch 15/50\n",
      "150/150 [==============================] - 377s 3s/step - loss: 0.2359 - accuracy: 0.9025 - val_loss: 0.3947 - val_accuracy: 0.8525\n",
      "Epoch 16/50\n",
      "150/150 [==============================] - 377s 3s/step - loss: 0.2325 - accuracy: 0.9039 - val_loss: 0.3842 - val_accuracy: 0.8561\n",
      "Epoch 17/50\n",
      "150/150 [==============================] - 375s 3s/step - loss: 0.2297 - accuracy: 0.9050 - val_loss: 0.3981 - val_accuracy: 0.8535\n",
      "Epoch 18/50\n",
      "150/150 [==============================] - 377s 3s/step - loss: 0.2264 - accuracy: 0.9063 - val_loss: 0.3853 - val_accuracy: 0.8564\n",
      "Epoch 19/50\n",
      "150/150 [==============================] - 375s 3s/step - loss: 0.2230 - accuracy: 0.9077 - val_loss: 0.3825 - val_accuracy: 0.8582\n",
      "Epoch 20/50\n",
      "150/150 [==============================] - 375s 3s/step - loss: 0.2187 - accuracy: 0.9095 - val_loss: 0.4062 - val_accuracy: 0.8507\n",
      "Epoch 21/50\n",
      "150/150 [==============================] - 375s 2s/step - loss: 0.2167 - accuracy: 0.9103 - val_loss: 0.4026 - val_accuracy: 0.8560\n",
      "Epoch 22/50\n",
      "150/150 [==============================] - 376s 3s/step - loss: 0.2146 - accuracy: 0.9110 - val_loss: 0.3991 - val_accuracy: 0.8534\n",
      "Epoch 23/50\n",
      "150/150 [==============================] - 378s 3s/step - loss: 0.2120 - accuracy: 0.9122 - val_loss: 0.4084 - val_accuracy: 0.8554\n",
      "Epoch 24/50\n",
      "150/150 [==============================] - 379s 3s/step - loss: 0.2100 - accuracy: 0.9130 - val_loss: 0.4017 - val_accuracy: 0.8550\n",
      "Epoch 25/50\n",
      "150/150 [==============================] - 377s 3s/step - loss: 0.2050 - accuracy: 0.9151 - val_loss: 0.4069 - val_accuracy: 0.8569\n",
      "Epoch 26/50\n",
      "150/150 [==============================] - 379s 3s/step - loss: 0.2020 - accuracy: 0.9163 - val_loss: 0.4055 - val_accuracy: 0.8567\n",
      "Epoch 27/50\n",
      "150/150 [==============================] - 379s 3s/step - loss: 0.2008 - accuracy: 0.9169 - val_loss: 0.3944 - val_accuracy: 0.8581\n",
      "Epoch 28/50\n",
      "150/150 [==============================] - 380s 3s/step - loss: 0.1995 - accuracy: 0.9173 - val_loss: 0.4071 - val_accuracy: 0.8576\n",
      "Epoch 29/50\n",
      "150/150 [==============================] - 383s 3s/step - loss: 0.1999 - accuracy: 0.9168 - val_loss: 0.4633 - val_accuracy: 0.8447\n",
      "Epoch 30/50\n",
      "150/150 [==============================] - 392s 3s/step - loss: 0.1967 - accuracy: 0.9183 - val_loss: 0.3984 - val_accuracy: 0.8598\n",
      "Epoch 31/50\n",
      "150/150 [==============================] - 393s 3s/step - loss: 0.1932 - accuracy: 0.9199 - val_loss: 0.4181 - val_accuracy: 0.8568\n",
      "Epoch 32/50\n",
      "150/150 [==============================] - 389s 3s/step - loss: 0.1900 - accuracy: 0.9214 - val_loss: 0.4315 - val_accuracy: 0.8531\n",
      "Epoch 33/50\n",
      "150/150 [==============================] - 383s 3s/step - loss: 0.1885 - accuracy: 0.9219 - val_loss: 0.3928 - val_accuracy: 0.8617\n",
      "Epoch 34/50\n",
      "150/150 [==============================] - 380s 3s/step - loss: 0.1867 - accuracy: 0.9226 - val_loss: 0.4427 - val_accuracy: 0.8540\n",
      "Epoch 35/50\n",
      "150/150 [==============================] - 386s 3s/step - loss: 0.1842 - accuracy: 0.9238 - val_loss: 0.4065 - val_accuracy: 0.8577\n",
      "Epoch 36/50\n",
      "150/150 [==============================] - 380s 3s/step - loss: 0.1830 - accuracy: 0.9243 - val_loss: 0.4489 - val_accuracy: 0.8541\n",
      "Epoch 37/50\n",
      "150/150 [==============================] - 383s 3s/step - loss: 0.1824 - accuracy: 0.9244 - val_loss: 0.4372 - val_accuracy: 0.8534\n",
      "Epoch 38/50\n",
      "150/150 [==============================] - 389s 3s/step - loss: 0.1819 - accuracy: 0.9247 - val_loss: 0.4484 - val_accuracy: 0.8534\n",
      "Epoch 39/50\n",
      "150/150 [==============================] - 421s 3s/step - loss: 0.1806 - accuracy: 0.9251 - val_loss: 0.4173 - val_accuracy: 0.8604\n",
      "Epoch 40/50\n",
      "150/150 [==============================] - 376s 3s/step - loss: 0.1793 - accuracy: 0.9258 - val_loss: 0.4288 - val_accuracy: 0.8556\n",
      "Epoch 41/50\n",
      "150/150 [==============================] - 375s 2s/step - loss: 0.1760 - accuracy: 0.9272 - val_loss: 0.4176 - val_accuracy: 0.8622\n",
      "Epoch 42/50\n",
      "150/150 [==============================] - 375s 2s/step - loss: 0.1739 - accuracy: 0.9281 - val_loss: 0.4374 - val_accuracy: 0.8552\n",
      "Epoch 43/50\n",
      "150/150 [==============================] - 378s 3s/step - loss: 0.1742 - accuracy: 0.9278 - val_loss: 0.4199 - val_accuracy: 0.8622\n",
      "Epoch 44/50\n",
      "150/150 [==============================] - 374s 2s/step - loss: 0.1738 - accuracy: 0.9279 - val_loss: 0.4081 - val_accuracy: 0.8619\n",
      "Epoch 45/50\n",
      "150/150 [==============================] - 374s 2s/step - loss: 0.1700 - accuracy: 0.9296 - val_loss: 0.4391 - val_accuracy: 0.8578\n",
      "Epoch 46/50\n",
      "150/150 [==============================] - 373s 2s/step - loss: 0.1672 - accuracy: 0.9309 - val_loss: 0.4418 - val_accuracy: 0.8579\n",
      "Epoch 47/50\n",
      "150/150 [==============================] - 374s 2s/step - loss: 0.1664 - accuracy: 0.9312 - val_loss: 0.4017 - val_accuracy: 0.8660\n",
      "Epoch 48/50\n",
      "150/150 [==============================] - 374s 2s/step - loss: 0.1676 - accuracy: 0.9305 - val_loss: 0.4618 - val_accuracy: 0.8542\n",
      "Epoch 49/50\n",
      "150/150 [==============================] - 374s 2s/step - loss: 0.1667 - accuracy: 0.9310 - val_loss: 0.4062 - val_accuracy: 0.8642\n",
      "Epoch 50/50\n",
      "150/150 [==============================] - 374s 2s/step - loss: 0.1640 - accuracy: 0.9322 - val_loss: 0.4173 - val_accuracy: 0.8643\n"
     ]
    }
   ],
   "source": [
    "H1 = model.fit(generateData(BS,train_set),steps_per_epoch=train_numb//BS,epochs=EPOCHS,\n",
    "              validation_data=generateValidData(BS,val_set),validation_steps=valid_numb//BS)  "
   ]
  },
  {
   "cell_type": "code",
   "execution_count": 97,
   "metadata": {},
   "outputs": [],
   "source": [
    "model.save(\"segnet1.h5\")"
   ]
  },
  {
   "cell_type": "code",
   "execution_count": 102,
   "metadata": {},
   "outputs": [],
   "source": [
    "acc_train = np.zeros([100,1])\n",
    "acc_train[0:50,0] = H.history['accuracy']\n",
    "acc_train[50:100,0] = H1.history['accuracy']\n",
    "\n",
    "acc_test = np.zeros([100,1])\n",
    "acc_test[0:50,0] = H.history['val_accuracy']\n",
    "acc_test[50:100,0] = H1.history['val_accuracy']\n",
    "\n",
    "loss_train = np.zeros([100,1])\n",
    "loss_train[0:50,0] = H.history['loss']\n",
    "loss_train[50:100,0] = H1.history['loss']\n",
    "\n",
    "loss_test = np.zeros([100,1])\n",
    "loss_test[0:50,0] = H.history['val_loss']\n",
    "loss_test[50:100,0] = H1.history['val_loss']"
   ]
  },
  {
   "cell_type": "code",
   "execution_count": 103,
   "metadata": {},
   "outputs": [
    {
     "data": {
      "text/plain": [
       "<matplotlib.legend.Legend at 0x7fc4ce487ca0>"
      ]
     },
     "execution_count": 103,
     "metadata": {},
     "output_type": "execute_result"
    },
    {
     "data": {
      "image/png": "[encoded data removed]",
      "text/plain": [
       "<Figure size 1152x648 with 1 Axes>"
      ]
     },
     "metadata": {},
     "output_type": "display_data"
    }
   ],
   "source": [
    "plt.figure(figsize = (16,9))\n",
    "plt.plot(np.arange(0, 100)+1, acc_train, label = \"training accuracy\")\n",
    "plt.plot(np.arange(0, 100)+1, acc_test, label = \"testing accuray\")\n",
    "plt.ylim(0.5,1)\n",
    "plt.title(\"Accuracy on SegNet\")\n",
    "plt.xlabel(\"Epoch #\")\n",
    "plt.ylabel(\"Accuracy\")\n",
    "plt.legend(loc = 4)"
   ]
  },
  {
   "cell_type": "code",
   "execution_count": 104,
   "metadata": {},
   "outputs": [
    {
     "data": {
      "text/plain": [
       "<matplotlib.legend.Legend at 0x7fc4ce3d2a30>"
      ]
     },
     "execution_count": 104,
     "metadata": {},
     "output_type": "execute_result"
    },
    {
     "data": {
      "image/png": "[encoded data removed]",
      "text/plain": [
       "<Figure size 1152x648 with 1 Axes>"
      ]
     },
     "metadata": {},
     "output_type": "display_data"
    }
   ],
   "source": [
    "plt.figure(figsize = (16,9))\n",
    "plt.plot(np.arange(0, 100)+1, loss_train, label=\"train_loss\")\n",
    "plt.plot(np.arange(0, 100)+1, loss_test, label=\"val_loss\")\n",
    "plt.title(\"Loss on SegNet\")\n",
    "plt.xlabel(\"Epoch #\")\n",
    "plt.ylabel(\"Loss\")\n",
    "plt.legend(loc=\"lower left\")"
   ]
  },
  {
   "cell_type": "code",
   "execution_count": 203,
   "metadata": {
    "scrolled": false
   },
   "outputs": [
    {
     "name": "stdout",
     "output_type": "stream",
     "text": [
      "[INFO] loading network...\n",
      "src: (576, 256, 3)\n",
      "[ 0  1  9 10 11]\n",
      "[ 0  9 10]\n",
      "[ 0  3  5  6  8  9 10 15]\n",
      "[ 0  3  4  5  6  7  8  9 10]\n",
      "[ 0  1  9 10]\n",
      "[ 0  9 10]\n",
      "[ 0  3  4  5  8  9 10 11]\n",
      "[ 0  3  4  5  6  8  9 10]\n",
      "[ 0  4  5  8  9 10]\n",
      "[ 0  5  7  9 10 11 15 16]\n",
      "[ 0  1  9 10 11]\n",
      "[ 0  3  4  5  6  8  9 10]\n",
      "[ 0  4  5  9 10 11]\n",
      "[ 0  3  4  9 10 11]\n",
      "[ 0  9 10 11]\n",
      "[ 0  3  4  5  8  9 10]\n",
      "[ 0  9 10 11]\n",
      "[ 0  1  3  5  6  8  9 10 11]\n",
      "[ 0  1  4  5  8  9 10 11]\n",
      "[ 0  3  4  5  8  9 10]\n",
      "[ 0  1  4  5  6  8  9 10 11]\n",
      "[ 0  1  3  4  5  6  8  9 10 11]\n",
      "[ 0  4  8  9 10 11]\n",
      "[ 0  3  5  6  8  9 10]\n",
      "[ 0  1  3  4  5  6  8  9 10]\n",
      "[ 0  1  3  4  5  6  7  8  9 10 11]\n",
      "[ 0  1  4  8  9 10 11]\n",
      "[ 0  3  4  5  6  8  9 10]\n",
      "[ 0  3  4  5  6  7  9 10]\n",
      "[ 0  1  4  8  9 10 11]\n",
      "[ 0  1  9 10]\n",
      "[ 0  3  5  6  8  9 10]\n",
      "[0 3]\n",
      "[0 3]\n",
      "[0 3]\n",
      "[0 3]\n"
     ]
    },
    {
     "data": {
      "text/plain": [
       "True"
      ]
     },
     "execution_count": 203,
     "metadata": {},
     "output_type": "execute_result"
    }
   ],
   "source": [
    "# load the trained convolutional neural network\n",
    "print(\"[INFO] loading network...\")\n",
    "stride = 64\n",
    "image_size = stride\n",
    "\n",
    "    \n",
    "image = X*255 \n",
    "h,w,_ = image.shape\n",
    "padding_h = (h//stride + 1) * stride \n",
    "padding_w = (w//stride + 1) * stride\n",
    "padding_img = np.zeros((padding_h,padding_w,3),dtype=np.uint8)\n",
    "padding_img[0:h,0:w,:] = image[:,:,:]\n",
    "#padding_img = padding_img.astype(\"float\")\n",
    "#padding_img = img_to_array(padding_img)\n",
    "print('src:',padding_img.shape)\n",
    "mask_whole = np.zeros([padding_h,padding_w])\n",
    "for i in range(padding_h//stride):\n",
    "    for j in range(padding_w//stride):\n",
    "        crop = padding_img[i*stride:i*stride+image_size,j*stride:j*stride+image_size,:]\n",
    "        ch,cw,_ = crop.shape\n",
    "        if ch != 64 or cw != 64:\n",
    "            print('invalid size!')\n",
    "            continue\n",
    "\n",
    "        crop = np.expand_dims(crop, axis=0)\n",
    "        #print 'crop:',crop.shape\n",
    "        pred = model.predict_classes(crop)#,verbose=2)  \n",
    "        #pred = labelencoder.inverse_transform(pred[0])  \n",
    "        print(np.unique(pred))  \n",
    "        pred = pred.reshape((64,64)).astype(np.uint8)\n",
    "        #print 'pred:',pred.shape\n",
    "        mask_whole[i*stride:i*stride+image_size,j*stride:j*stride+image_size] = pred[:,:]\n",
    "\n",
    "\n",
    "cv2.imwrite('pred.png',mask_whole[0:h,0:w]*15)"
   ]
  },
  {
   "cell_type": "code",
   "execution_count": 168,
   "metadata": {},
   "outputs": [
    {
     "data": {
      "text/plain": [
       "True"
      ]
     },
     "execution_count": 168,
     "metadata": {},
     "output_type": "execute_result"
    }
   ],
   "source": [
    "mask_whole = mask_whole[0:h,0:w]\n",
    "mask_whole = np.transpose(np.reshape(mask_whole.reshape(512*217,1),[217,512]))\n",
    "cv2.imwrite('pred.png',mask_whole*15)"
   ]
  },
  {
   "cell_type": "code",
   "execution_count": 148,
   "metadata": {},
   "outputs": [
    {
     "data": {
      "text/plain": [
       "3"
      ]
     },
     "execution_count": 148,
     "metadata": {},
     "output_type": "execute_result"
    }
   ],
   "source": [
    "random.randint(5)"
   ]
  },
  {
   "cell_type": "code",
   "execution_count": 191,
   "metadata": {},
   "outputs": [],
   "source": [
    "def noise(img):\n",
    "    for i in range(len(img)):\n",
    "        if np.random.random() < 0.07:\n",
    "            Y[i,0] = 0\n",
    "            continue\n",
    "        if (np.random.random() < 0.08):\n",
    "            m = np.min([16-Y[i,0], Y[i,0]])\n",
    "            Y[i,0] = Y[i,0] + random.randint(m+1) * (-1)^(random.randint(2))\n",
    "            continue\n",
    "    return img"
   ]
  },
  {
   "cell_type": "code",
   "execution_count": 192,
   "metadata": {},
   "outputs": [
    {
     "data": {
      "text/plain": [
       "array([ 0,  1,  2,  3,  4,  5,  6,  7,  8,  9, 10, 11, 12, 13, 14, 15, 16],\n",
       "      dtype=uint8)"
      ]
     },
     "execution_count": 192,
     "metadata": {},
     "output_type": "execute_result"
    }
   ],
   "source": [
    "np.unique(Y)"
   ]
  },
  {
   "cell_type": "code",
   "execution_count": 193,
   "metadata": {},
   "outputs": [
    {
     "data": {
      "text/plain": [
       "3"
      ]
     },
     "execution_count": 193,
     "metadata": {},
     "output_type": "execute_result"
    }
   ],
   "source": [
    "np.min([5,3])"
   ]
  },
  {
   "cell_type": "code",
   "execution_count": 194,
   "metadata": {},
   "outputs": [],
   "source": [
    "Y1 = noise(Y)"
   ]
  },
  {
   "cell_type": "code",
   "execution_count": 195,
   "metadata": {},
   "outputs": [
    {
     "data": {
      "text/plain": [
       "True"
      ]
     },
     "execution_count": 195,
     "metadata": {},
     "output_type": "execute_result"
    }
   ],
   "source": [
    "Y1 = np.transpose(np.reshape(Y1,[217,512]))\n",
    "cv2.imwrite(('../Desktop/%s.png' % 'Y1'), Y1*15)"
   ]
  },
  {
   "cell_type": "code",
   "execution_count": null,
   "metadata": {},
   "outputs": [],
   "source": []
  }
 ],
 "metadata": {
  "kernelspec": {
   "display_name": "Python 3",
   "language": "python",
   "name": "python3"
  },
  "language_info": {
   "codemirror_mode": {
    "name": "ipython",
    "version": 3
   },
   "file_extension": ".py",
   "mimetype": "text/x-python",
   "name": "python",
   "nbconvert_exporter": "python",
   "pygments_lexer": "ipython3",
   "version": "3.8.8"
  }
 },
 "nbformat": 4,
 "nbformat_minor": 4
}
