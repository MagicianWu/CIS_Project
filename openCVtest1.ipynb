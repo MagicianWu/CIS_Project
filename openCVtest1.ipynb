{
 "cells": [
  {
   "cell_type": "code",
   "execution_count": 7,
   "id": "7f216c05",
   "metadata": {},
   "outputs": [],
   "source": [
    "import cv2\n",
    "import numpy as np\n",
    "import matplotlib.pyplot as plt\n",
    "from skimage import io\n",
    "from os import path\n",
    "\n",
    "#import numpy as np\n",
    "#import cv2\n",
    "import scipy\n",
    "import scipy.io\n",
    "from sklearn.decomposition import FastICA\n",
    "from tqdm import tqdm\n",
    "from numpy import random"
   ]
  },
  {
   "cell_type": "code",
   "execution_count": 14,
   "id": "0eff2544",
   "metadata": {},
   "outputs": [],
   "source": [
    "img_w = 256  #512\n",
    "img_h = 256  \n",
    "img1='G:/pa17/test/1.png'\n",
    "img2='G:/pa17/test/2.png'\n",
    "img3='G:/pa17/test/3.png'\n",
    "img4='G:/pa17/test/4.png'\n",
    "img5='G:/pa17/test/5.png'\n",
    "\n",
    "image_sets = [img1,img2,img3,img4,img5]\n",
    "#image_sets = ['1.png','2.png','3.png','4.png','5.png']\n",
    "\n",
    "def gamma_transform(img, gamma):\n",
    "    gamma_table = [np.power(x / 255.0, gamma) * 255.0 for x in range(256)]\n",
    "    gamma_table = np.round(np.array(gamma_table)).astype(np.uint8)\n",
    "    return cv2.LUT(img, gamma_table)\n",
    "\n",
    "def random_gamma_transform(img, gamma_vari):\n",
    "    log_gamma_vari = np.log(gamma_vari)\n",
    "    alpha = np.random.uniform(-log_gamma_vari, log_gamma_vari)\n",
    "    gamma = np.exp(alpha)\n",
    "    return gamma_transform(img, gamma)\n",
    "    \n",
    "\n",
    "def rotate(xb,yb,angle):\n",
    "    M_rotate = cv2.getRotationMatrix2D((img_w/2, img_h/2), angle, 1)\n",
    "    xb = cv2.warpAffine(xb, M_rotate, (img_w, img_h))\n",
    "    yb = cv2.warpAffine(yb, M_rotate, (img_w, img_h))\n",
    "    return xb,yb\n",
    "    \n",
    "def blur(img):\n",
    "    img = cv2.blur(img, (3, 3));\n",
    "    return img\n",
    "\n",
    "def add_noise(img):\n",
    "    for i in range(200): #添加点噪声\n",
    "        temp_x = np.random.randint(0,img.shape[0])\n",
    "        temp_y = np.random.randint(0,img.shape[1])\n",
    "        img[temp_x][temp_y] = 255\n",
    "    return img\n",
    "    \n",
    "    \n",
    "def data_augment(xb,yb):\n",
    "    if np.random.random() < 0.25:\n",
    "        xb,yb = rotate(xb,yb,90)\n",
    "    if np.random.random() < 0.25:\n",
    "        xb,yb = rotate(xb,yb,180)\n",
    "    if np.random.random() < 0.25:\n",
    "        xb,yb = rotate(xb,yb,270)\n",
    "    if np.random.random() < 0.25:\n",
    "        xb = cv2.flip(xb, 1)  # flipcode > 0：沿y轴翻转\n",
    "        yb = cv2.flip(yb, 1)\n",
    "        \n",
    "    if np.random.random() < 0.25:\n",
    "        xb = random_gamma_transform(xb,1.0)\n",
    "        \n",
    "    if np.random.random() < 0.25:\n",
    "        xb = blur(xb)\n",
    "    \n",
    "    if np.random.random() < 0.2:\n",
    "        xb = add_noise(xb)\n",
    "        \n",
    "    return xb,yb\n",
    "\n",
    "def creat_dataset(image_num = 100000, mode = 'original'):\n",
    "    print('creating dataset...')\n",
    "    image_each = image_num / len(image_sets)\n",
    "    g_count = 0\n",
    "    for i in tqdm(range(len(image_sets))):\n",
    "        count = 0\n",
    "        src_img = cv2.imread('./data/src/' + image_sets[i])  # 3 channels\n",
    "        label_img = cv2.imread('./data/label/' + image_sets[i],cv2.IMREAD_GRAYSCALE)  # single channel\n",
    "#         src_img = cv2.imread('G:/pa17/test/' + image_sets[i])  # 3 channels #G:\\pa17\\test\n",
    "#         label_img = cv2.imread('G:/pa17/label/' + image_sets[i],cv2.IMREAD_GRAYSCALE)  # single channel\n",
    "\n",
    "\n",
    "        X_height,X_width,_ = src_img.shape\n",
    "        while count < image_each:\n",
    "            random_width = random.randint(0, X_width - img_w - 1)\n",
    "            random_height = random.randint(0, X_height - img_h - 1)\n",
    "            src_roi = src_img[random_height: random_height + img_h, random_width: random_width + img_w,:]\n",
    "            label_roi = label_img[random_height: random_height + img_h, random_width: random_width + img_w]\n",
    "            if mode == 'augment':\n",
    "                src_roi,label_roi = data_augment(src_roi,label_roi)\n",
    "            \n",
    "            visualize = np.zeros((256,256)).astype(np.uint8)\n",
    "            visualize = label_roi *50\n",
    "            \n",
    "            cv2.imwrite(('./aug/train/visualize/%d.png' % g_count),visualize)\n",
    "            cv2.imwrite(('./aug/train/src/%d.png' % g_count),src_roi)\n",
    "            cv2.imwrite(('./aug/train/label/%d.png' % g_count),label_roi)\n",
    "            \n",
    "#             cv2.imwrite(('G:/pa17/train/visualize/%d.png' % g_count),visualize)\n",
    "#             cv2.imwrite(('G:/pa17/train/src/%d.png' % g_count),src_roi)\n",
    "#             cv2.imwrite(('G:/pa17/train/label/%d.png' % g_count),label_roi)\n",
    "            count += 1 \n",
    "            g_count += 1"
   ]
  },
  {
   "cell_type": "code",
   "execution_count": 16,
   "id": "212d4438",
   "metadata": {},
   "outputs": [
    {
     "name": "stderr",
     "output_type": "stream",
     "text": [
      "  0%|                                                                                            | 0/5 [00:00<?, ?it/s]"
     ]
    },
    {
     "name": "stdout",
     "output_type": "stream",
     "text": [
      "creating dataset...\n"
     ]
    },
    {
     "name": "stderr",
     "output_type": "stream",
     "text": [
      "\n"
     ]
    },
    {
     "ename": "AttributeError",
     "evalue": "'NoneType' object has no attribute 'shape'",
     "output_type": "error",
     "traceback": [
      "\u001b[1;31m---------------------------------------------------------------------------\u001b[0m",
      "\u001b[1;31mAttributeError\u001b[0m                            Traceback (most recent call last)",
      "\u001b[1;32m<ipython-input-16-8087ce29b87a>\u001b[0m in \u001b[0;36m<module>\u001b[1;34m\u001b[0m\n\u001b[0;32m      1\u001b[0m \u001b[1;31m#creat_dataset(1000, 'augment')\u001b[0m\u001b[1;33m\u001b[0m\u001b[1;33m\u001b[0m\u001b[1;33m\u001b[0m\u001b[0m\n\u001b[0;32m      2\u001b[0m \u001b[1;33m\u001b[0m\u001b[0m\n\u001b[1;32m----> 3\u001b[1;33m \u001b[0mcreat_dataset\u001b[0m\u001b[1;33m(\u001b[0m\u001b[1;36m5000\u001b[0m\u001b[1;33m,\u001b[0m \u001b[1;34m'original'\u001b[0m\u001b[1;33m)\u001b[0m\u001b[1;33m\u001b[0m\u001b[1;33m\u001b[0m\u001b[0m\n\u001b[0m",
      "\u001b[1;32m<ipython-input-14-7a3941e86970>\u001b[0m in \u001b[0;36mcreat_dataset\u001b[1;34m(image_num, mode)\u001b[0m\n\u001b[0;32m     74\u001b[0m \u001b[1;33m\u001b[0m\u001b[0m\n\u001b[0;32m     75\u001b[0m \u001b[1;33m\u001b[0m\u001b[0m\n\u001b[1;32m---> 76\u001b[1;33m         \u001b[0mX_height\u001b[0m\u001b[1;33m,\u001b[0m\u001b[0mX_width\u001b[0m\u001b[1;33m,\u001b[0m\u001b[0m_\u001b[0m \u001b[1;33m=\u001b[0m \u001b[0msrc_img\u001b[0m\u001b[1;33m.\u001b[0m\u001b[0mshape\u001b[0m\u001b[1;33m\u001b[0m\u001b[1;33m\u001b[0m\u001b[0m\n\u001b[0m\u001b[0;32m     77\u001b[0m         \u001b[1;32mwhile\u001b[0m \u001b[0mcount\u001b[0m \u001b[1;33m<\u001b[0m \u001b[0mimage_each\u001b[0m\u001b[1;33m:\u001b[0m\u001b[1;33m\u001b[0m\u001b[1;33m\u001b[0m\u001b[0m\n\u001b[0;32m     78\u001b[0m             \u001b[0mrandom_width\u001b[0m \u001b[1;33m=\u001b[0m \u001b[0mrandom\u001b[0m\u001b[1;33m.\u001b[0m\u001b[0mrandint\u001b[0m\u001b[1;33m(\u001b[0m\u001b[1;36m0\u001b[0m\u001b[1;33m,\u001b[0m \u001b[0mX_width\u001b[0m \u001b[1;33m-\u001b[0m \u001b[0mimg_w\u001b[0m \u001b[1;33m-\u001b[0m \u001b[1;36m1\u001b[0m\u001b[1;33m)\u001b[0m\u001b[1;33m\u001b[0m\u001b[1;33m\u001b[0m\u001b[0m\n",
      "\u001b[1;31mAttributeError\u001b[0m: 'NoneType' object has no attribute 'shape'"
     ]
    }
   ],
   "source": [
    "#creat_dataset(1000, 'augment')\n",
    "\n",
    "creat_dataset(5000, 'original')"
   ]
  },
  {
   "cell_type": "code",
   "execution_count": null,
   "id": "729e3437",
   "metadata": {},
   "outputs": [],
   "source": []
  }
 ],
 "metadata": {
  "kernelspec": {
   "display_name": "Python 3",
   "language": "python",
   "name": "python3"
  },
  "language_info": {
   "codemirror_mode": {
    "name": "ipython",
    "version": 3
   },
   "file_extension": ".py",
   "mimetype": "text/x-python",
   "name": "python",
   "nbconvert_exporter": "python",
   "pygments_lexer": "ipython3",
   "version": "3.8.8"
  }
 },
 "nbformat": 4,
 "nbformat_minor": 5
}
