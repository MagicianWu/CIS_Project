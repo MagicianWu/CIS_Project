{
 "cells": [
  {
   "cell_type": "code",
   "execution_count": 10,
   "metadata": {},
   "outputs": [],
   "source": [
    "import numpy as np\n",
    "import pandas as pd\n",
    "%matplotlib inline\n",
    "import IPython.core.display      \n",
    "\n",
    "# setup output image format (Chrome works best)\n",
    "IPython.core.display.set_matplotlib_formats(\"svg\")\n",
    "import matplotlib.pyplot as plt\n",
    "import matplotlib\n",
    "from numpy import *\n",
    "from sklearn import *\n",
    "import glob\n",
    "import os\n",
    "import csv\n",
    "import string"
   ]
  },
  {
   "cell_type": "markdown",
   "metadata": {},
   "source": [
    "# load data"
   ]
  },
  {
   "cell_type": "code",
   "execution_count": 11,
   "metadata": {},
   "outputs": [],
   "source": [
    "data = pd.read_csv(\"patch_features.csv\")"
   ]
  },
  {
   "cell_type": "code",
   "execution_count": 12,
   "metadata": {},
   "outputs": [],
   "source": [
    "dataX = data.iloc[:,2:]\n",
    "dataY = data.iloc[:,1]"
   ]
  },
  {
   "cell_type": "markdown",
   "metadata": {},
   "source": [
    "# Train and Test data split"
   ]
  },
  {
   "cell_type": "code",
   "execution_count": 13,
   "metadata": {},
   "outputs": [
    {
     "name": "stdout",
     "output_type": "stream",
     "text": [
      "(56422, 798)\n",
      "(14106, 798)\n"
     ]
    }
   ],
   "source": [
    "# randomly split data into 50% train and 50% test set\n",
    "from sklearn.model_selection import train_test_split\n",
    "trainX, testX, trainYo, testYo = \\\n",
    "  train_test_split(dataX, dataY, \n",
    "  train_size=0.8, random_state=4487)\n",
    "\n",
    "print(trainX.shape)\n",
    "print(testX.shape)"
   ]
  },
  {
   "cell_type": "markdown",
   "metadata": {},
   "source": [
    "# Normalization"
   ]
  },
  {
   "cell_type": "code",
   "execution_count": 18,
   "metadata": {},
   "outputs": [],
   "source": [
    "### Nomalization\n",
    "scalerf = preprocessing.MinMaxScaler(feature_range=(-1,1))    # make scaling object\n",
    "trainXf = scalerf.fit_transform(trainX)   # use training data to fit scaling parameters\n",
    "testXf  = scalerf.transform(testX)        # apply scaling to test data"
   ]
  },
  {
   "cell_type": "code",
   "execution_count": null,
   "metadata": {},
   "outputs": [],
   "source": []
  },
  {
   "cell_type": "markdown",
   "metadata": {},
   "source": [
    "# SVM with linear kernel"
   ]
  },
  {
   "cell_type": "markdown",
   "metadata": {},
   "source": [
    "#### linear kernel, C = 1"
   ]
  },
  {
   "cell_type": "code",
   "execution_count": 60,
   "metadata": {},
   "outputs": [
    {
     "name": "stderr",
     "output_type": "stream",
     "text": [
      "/Users/jiaqiwu/opt/anaconda3/lib/python3.8/site-packages/sklearn/svm/_base.py:246: ConvergenceWarning: Solver terminated early (max_iter=500).  Consider pre-processing your data with StandardScaler or MinMaxScaler.\n",
      "  warnings.warn('Solver terminated early (max_iter=%i).'\n"
     ]
    },
    {
     "name": "stdout",
     "output_type": "stream",
     "text": [
      "              precision    recall  f1-score   support\n",
      "\n",
      "           0       0.83      0.47      0.60      6440\n",
      "           1       0.67      0.92      0.78      7666\n",
      "\n",
      "    accuracy                           0.72     14106\n",
      "   macro avg       0.75      0.70      0.69     14106\n",
      "weighted avg       0.75      0.72      0.70     14106\n",
      "\n"
     ]
    }
   ],
   "source": [
    "clf = SVC(C=1 , random_state=0, max_iter=500, kernel = 'linear' )\n",
    "clf.fit(trainXf, trainYo)\n",
    "prediction = clf.predict(testXf)\n",
    "\n",
    "print(classification_report(testYo, prediction))"
   ]
  },
  {
   "cell_type": "markdown",
   "metadata": {},
   "source": [
    "#### linear kernel, C = 5"
   ]
  },
  {
   "cell_type": "code",
   "execution_count": 61,
   "metadata": {},
   "outputs": [
    {
     "name": "stderr",
     "output_type": "stream",
     "text": [
      "/Users/jiaqiwu/opt/anaconda3/lib/python3.8/site-packages/sklearn/svm/_base.py:246: ConvergenceWarning: Solver terminated early (max_iter=500).  Consider pre-processing your data with StandardScaler or MinMaxScaler.\n",
      "  warnings.warn('Solver terminated early (max_iter=%i).'\n"
     ]
    },
    {
     "name": "stdout",
     "output_type": "stream",
     "text": [
      "              precision    recall  f1-score   support\n",
      "\n",
      "           0       0.72      0.46      0.56      6440\n",
      "           1       0.65      0.85      0.74      7666\n",
      "\n",
      "    accuracy                           0.67     14106\n",
      "   macro avg       0.69      0.65      0.65     14106\n",
      "weighted avg       0.68      0.67      0.66     14106\n",
      "\n"
     ]
    }
   ],
   "source": [
    "clf = SVC(C=5 , random_state=0, max_iter=500, kernel = 'linear' )\n",
    "clf.fit(trainXf, trainYo)\n",
    "prediction = clf.predict(testXf)\n",
    "\n",
    "print(classification_report(testYo, prediction))"
   ]
  },
  {
   "cell_type": "markdown",
   "metadata": {},
   "source": [
    "#### linear kernel, C = 10"
   ]
  },
  {
   "cell_type": "code",
   "execution_count": 62,
   "metadata": {},
   "outputs": [
    {
     "name": "stderr",
     "output_type": "stream",
     "text": [
      "/Users/jiaqiwu/opt/anaconda3/lib/python3.8/site-packages/sklearn/svm/_base.py:246: ConvergenceWarning: Solver terminated early (max_iter=500).  Consider pre-processing your data with StandardScaler or MinMaxScaler.\n",
      "  warnings.warn('Solver terminated early (max_iter=%i).'\n"
     ]
    },
    {
     "name": "stdout",
     "output_type": "stream",
     "text": [
      "              precision    recall  f1-score   support\n",
      "\n",
      "           0       0.80      0.73      0.76      6440\n",
      "           1       0.79      0.85      0.82      7666\n",
      "\n",
      "    accuracy                           0.79     14106\n",
      "   macro avg       0.80      0.79      0.79     14106\n",
      "weighted avg       0.79      0.79      0.79     14106\n",
      "\n"
     ]
    }
   ],
   "source": [
    "clf = SVC(C=10 , random_state=0, max_iter=500, kernel = 'linear' )\n",
    "clf.fit(trainXf, trainYo)\n",
    "prediction = clf.predict(testXf)\n",
    "\n",
    "print(classification_report(testYo, prediction))"
   ]
  },
  {
   "cell_type": "markdown",
   "metadata": {},
   "source": [
    "## reaches best for linear kernel\n",
    "#### linear kernel, C = 15"
   ]
  },
  {
   "cell_type": "code",
   "execution_count": 63,
   "metadata": {},
   "outputs": [
    {
     "name": "stderr",
     "output_type": "stream",
     "text": [
      "/Users/jiaqiwu/opt/anaconda3/lib/python3.8/site-packages/sklearn/svm/_base.py:246: ConvergenceWarning: Solver terminated early (max_iter=500).  Consider pre-processing your data with StandardScaler or MinMaxScaler.\n",
      "  warnings.warn('Solver terminated early (max_iter=%i).'\n"
     ]
    },
    {
     "name": "stdout",
     "output_type": "stream",
     "text": [
      "              precision    recall  f1-score   support\n",
      "\n",
      "           0       0.88      0.77      0.82      6440\n",
      "           1       0.83      0.91      0.87      7666\n",
      "\n",
      "    accuracy                           0.85     14106\n",
      "   macro avg       0.85      0.84      0.85     14106\n",
      "weighted avg       0.85      0.85      0.85     14106\n",
      "\n"
     ]
    }
   ],
   "source": [
    "clf = SVC(C=15 , random_state=0, max_iter=500, kernel = 'linear' )\n",
    "clf.fit(trainXf, trainYo)\n",
    "prediction = clf.predict(testXf)\n",
    "\n",
    "print(classification_report(testYo, prediction))"
   ]
  },
  {
   "cell_type": "markdown",
   "metadata": {},
   "source": [
    "#### linear kernel, C = 30"
   ]
  },
  {
   "cell_type": "code",
   "execution_count": 64,
   "metadata": {},
   "outputs": [
    {
     "name": "stderr",
     "output_type": "stream",
     "text": [
      "/Users/jiaqiwu/opt/anaconda3/lib/python3.8/site-packages/sklearn/svm/_base.py:246: ConvergenceWarning: Solver terminated early (max_iter=500).  Consider pre-processing your data with StandardScaler or MinMaxScaler.\n",
      "  warnings.warn('Solver terminated early (max_iter=%i).'\n"
     ]
    },
    {
     "name": "stdout",
     "output_type": "stream",
     "text": [
      "              precision    recall  f1-score   support\n",
      "\n",
      "           0       0.88      0.77      0.82      6440\n",
      "           1       0.83      0.91      0.87      7666\n",
      "\n",
      "    accuracy                           0.85     14106\n",
      "   macro avg       0.85      0.84      0.85     14106\n",
      "weighted avg       0.85      0.85      0.85     14106\n",
      "\n"
     ]
    }
   ],
   "source": [
    "clf = SVC(C=30 , random_state=0, max_iter=500, kernel = 'linear' )\n",
    "clf.fit(trainXf, trainYo)\n",
    "prediction = clf.predict(testXf)\n",
    "\n",
    "print(classification_report(testYo, prediction))"
   ]
  },
  {
   "cell_type": "markdown",
   "metadata": {},
   "source": [
    "#### linear kernel, C = 50"
   ]
  },
  {
   "cell_type": "code",
   "execution_count": 65,
   "metadata": {},
   "outputs": [
    {
     "name": "stderr",
     "output_type": "stream",
     "text": [
      "/Users/jiaqiwu/opt/anaconda3/lib/python3.8/site-packages/sklearn/svm/_base.py:246: ConvergenceWarning: Solver terminated early (max_iter=500).  Consider pre-processing your data with StandardScaler or MinMaxScaler.\n",
      "  warnings.warn('Solver terminated early (max_iter=%i).'\n"
     ]
    },
    {
     "name": "stdout",
     "output_type": "stream",
     "text": [
      "              precision    recall  f1-score   support\n",
      "\n",
      "           0       0.88      0.77      0.82      6440\n",
      "           1       0.83      0.91      0.87      7666\n",
      "\n",
      "    accuracy                           0.85     14106\n",
      "   macro avg       0.85      0.84      0.85     14106\n",
      "weighted avg       0.85      0.85      0.85     14106\n",
      "\n"
     ]
    }
   ],
   "source": [
    "clf = SVC(C=50 , random_state=0, max_iter=500, kernel = 'linear' )\n",
    "clf.fit(trainXf, trainYo)#### linear kernel, C = 1\n",
    "prediction = clf.predict(testXf)\n",
    "\n",
    "print(classification_report(testYo, prediction))"
   ]
  },
  {
   "cell_type": "markdown",
   "metadata": {},
   "source": [
    "#### linear kernel, C = 100"
   ]
  },
  {
   "cell_type": "code",
   "execution_count": 66,
   "metadata": {},
   "outputs": [
    {
     "name": "stderr",
     "output_type": "stream",
     "text": [
      "/Users/jiaqiwu/opt/anaconda3/lib/python3.8/site-packages/sklearn/svm/_base.py:246: ConvergenceWarning: Solver terminated early (max_iter=500).  Consider pre-processing your data with StandardScaler or MinMaxScaler.\n",
      "  warnings.warn('Solver terminated early (max_iter=%i).'\n"
     ]
    },
    {
     "name": "stdout",
     "output_type": "stream",
     "text": [
      "              precision    recall  f1-score   support\n",
      "\n",
      "           0       0.88      0.77      0.82      6440\n",
      "           1       0.83      0.91      0.87      7666\n",
      "\n",
      "    accuracy                           0.85     14106\n",
      "   macro avg       0.85      0.84      0.85     14106\n",
      "weighted avg       0.85      0.85      0.85     14106\n",
      "\n"
     ]
    }
   ],
   "source": [
    "clf = SVC(C=100 , random_state=0, max_iter=500, kernel = 'linear' )\n",
    "clf.fit(trainXf, trainYo)#### linear kernel, C = 1\n",
    "prediction = clf.predict(testXf)\n",
    "\n",
    "print(classification_report(testYo, prediction))"
   ]
  },
  {
   "cell_type": "markdown",
   "metadata": {},
   "source": [
    "# SVM with polynomial kernel"
   ]
  },
  {
   "cell_type": "markdown",
   "metadata": {},
   "source": [
    "#### 2 degrees polynomial kernel, C = 100"
   ]
  },
  {
   "cell_type": "code",
   "execution_count": 44,
   "metadata": {},
   "outputs": [
    {
     "name": "stderr",
     "output_type": "stream",
     "text": [
      "/Users/jiaqiwu/opt/anaconda3/lib/python3.8/site-packages/sklearn/svm/_base.py:246: ConvergenceWarning: Solver terminated early (max_iter=500).  Consider pre-processing your data with StandardScaler or MinMaxScaler.\n",
      "  warnings.warn('Solver terminated early (max_iter=%i).'\n"
     ]
    },
    {
     "name": "stdout",
     "output_type": "stream",
     "text": [
      "              precision    recall  f1-score   support\n",
      "\n",
      "           0       0.80      0.77      0.78      6440\n",
      "           1       0.81      0.84      0.83      7666\n",
      "\n",
      "    accuracy                           0.81     14106\n",
      "   macro avg       0.81      0.80      0.81     14106\n",
      "weighted avg       0.81      0.81      0.81     14106\n",
      "\n"
     ]
    }
   ],
   "source": [
    "clf = SVC(C=100 , random_state=0, max_iter=500, degree = 2, kernel = 'poly' )\n",
    "clf.fit(tr#### linear kernel, C = 100ainXf, trainYo)\n",
    "prediction = clf.predict(testXf)\n",
    "\n",
    "print(classification_report(testYo, prediction))"
   ]
  },
  {
   "cell_type": "markdown",
   "metadata": {},
   "source": [
    "#### 3 degrees polynomial kernel, C = 50"
   ]
  },
  {
   "cell_type": "code",
   "execution_count": 45,
   "metadata": {},
   "outputs": [
    {
     "name": "stderr",
     "output_type": "stream",
     "text": [
      "/Users/jiaqiwu/opt/anaconda3/lib/python3.8/site-packages/sklearn/svm/_base.py:246: ConvergenceWarning: Solver terminated early (max_iter=500).  Consider pre-processing your data with StandardScaler or MinMaxScaler.\n",
      "  warnings.warn('Solver terminated early (max_iter=%i).'\n"
     ]
    },
    {
     "name": "stdout",
     "output_type": "stream",
     "text": [
      "              precision    recall  f1-score   support\n",
      "\n",
      "           0       0.66      0.71      0.68      6440\n",
      "           1       0.74      0.69      0.71      7666\n",
      "\n",
      "    accuracy                           0.70     14106\n",
      "   macro avg       0.70      0.70      0.70     14106\n",
      "weighted avg       0.70      0.70      0.70     14106\n",
      "\n"
     ]
    }
   ],
   "source": [
    "clf = SVC(C=50 , random_state=0, max_iter=500, degree = 3, kernel = 'poly' )\n",
    "c#### polynomial kernel, C = 100lf.fit(trainXf, trainYo)\n",
    "prediction = clf.predict(testXf)\n",
    "\n",
    "print(classification_report(testYo, prediction))"
   ]
  },
  {
   "cell_type": "markdown",
   "metadata": {},
   "source": [
    "#### 3 degrees polynomial kernel, C = 100"
   ]
  },
  {
   "cell_type": "code",
   "execution_count": 46,
   "metadata": {},
   "outputs": [
    {
     "name": "stderr",
     "output_type": "stream",
     "text": [
      "/Users/jiaqiwu/opt/anaconda3/lib/python3.8/site-packages/sklearn/svm/_base.py:246: ConvergenceWarning: Solver terminated early (max_iter=500).  Consider pre-processing your data with StandardScaler or MinMaxScaler.\n",
      "  warnings.warn('Solver terminated early (max_iter=%i).'\n"
     ]
    },
    {
     "name": "stdout",
     "output_type": "stream",
     "text": [
      "              precision    recall  f1-score   support\n",
      "\n",
      "           0       0.66      0.71      0.68      6440\n",
      "           1       0.74      0.69      0.71      7666\n",
      "\n",
      "    accuracy                           0.70     14106\n",
      "   macro avg       0.70      0.70      0.70     14106\n",
      "weighted avg       0.70      0.70      0.70     14106\n",
      "\n"
     ]
    }
   ],
   "source": [
    "clf = SVC(C=100 , random_state=0, max_iter=500, degree = 3, kernel = 'poly' )\n",
    "clf.fit(trainXf, trainYo)\n",
    "prediction = clf.predict(testXf)\n",
    "\n",
    "print(classification_report(testYo, prediction))"
   ]
  },
  {
   "cell_type": "markdown",
   "metadata": {},
   "source": [
    "# SVM with rbf kernel"
   ]
  },
  {
   "cell_type": "code",
   "execution_count": 48,
   "metadata": {},
   "outputs": [],
   "source": [
    "from sklearn.svm import SVC\n",
    "from sklearn.decomposition import PCA\n",
    "from sklearn.metrics import classification_report"
   ]
  },
  {
   "cell_type": "markdown",
   "metadata": {},
   "source": [
    "#### RBF kernel, C = 1"
   ]
  },
  {
   "cell_type": "code",
   "execution_count": 49,
   "metadata": {},
   "outputs": [
    {
     "name": "stderr",
     "output_type": "stream",
     "text": [
      "/Users/jiaqiwu/opt/anaconda3/lib/python3.8/site-packages/sklearn/svm/_base.py:246: ConvergenceWarning: Solver terminated early (max_iter=500).  Consider pre-processing your data with StandardScaler or MinMaxScaler.\n",
      "  warnings.warn('Solver terminated early (max_iter=%i).'\n"
     ]
    },
    {
     "name": "stdout",
     "output_type": "stream",
     "text": [
      "              precision    recall  f1-score   support\n",
      "\n",
      "           0       0.58      0.03      0.06      6440\n",
      "           1       0.55      0.98      0.70      7666\n",
      "\n",
      "    accuracy                           0.55     14106\n",
      "   macro avg       0.56      0.51      0.38     14106\n",
      "weighted avg       0.56      0.55      0.41     14106\n",
      "\n"
     ]
    }
   ],
   "source": [
    "clf = SVC(C=1 , random_state=0, max_iter=500, kernel = 'rbf' )\n",
    "clf.fit(trainXf, trainYo)\n",
    "prediction = clf.predict(testXf)\n",
    "\n",
    "print(classification_report(testYo, prediction))"
   ]
  },
  {
   "cell_type": "markdown",
   "metadata": {},
   "source": [
    "#### RBF kernel, C = 5"
   ]
  },
  {
   "cell_type": "code",
   "execution_count": 50,
   "metadata": {},
   "outputs": [
    {
     "name": "stderr",
     "output_type": "stream",
     "text": [
      "/Users/jiaqiwu/opt/anaconda3/lib/python3.8/site-packages/sklearn/svm/_base.py:246: ConvergenceWarning: Solver terminated early (max_iter=500).  Consider pre-processing your data with StandardScaler or MinMaxScaler.\n",
      "  warnings.warn('Solver terminated early (max_iter=%i).'\n"
     ]
    },
    {
     "name": "stdout",
     "output_type": "stream",
     "text": [
      "              precision    recall  f1-score   support\n",
      "\n",
      "           0       0.70      0.06      0.11      6440\n",
      "           1       0.55      0.98      0.71      7666\n",
      "\n",
      "    accuracy                           0.56     14106\n",
      "   macro avg       0.63      0.52      0.41     14106\n",
      "weighted avg       0.62      0.56      0.44     14106\n",
      "\n"
     ]
    }
   ],
   "source": [
    "#### RBF kernel, C = 1clf = SVC(C=5 , random_state=0, max_iter=500, kernel = 'rbf' )\n",
    "clf.fit(trainXf, trainYo)\n",
    "prediction = clf.predict(testXf)\n",
    "\n",
    "print(classification_report(testYo, prediction))"
   ]
  },
  {
   "cell_type": "markdown",
   "metadata": {},
   "source": [
    "#### RBF kernel, C = 10"
   ]
  },
  {
   "cell_type": "code",
   "execution_count": 51,
   "metadata": {},
   "outputs": [
    {
     "name": "stderr",
     "output_type": "stream",
     "text": [
      "/Users/jiaqiwu/opt/anaconda3/lib/python3.8/site-packages/sklearn/svm/_base.py:246: ConvergenceWarning: Solver terminated early (max_iter=500).  Consider pre-processing your data with StandardScaler or MinMaxScaler.\n",
      "  warnings.warn('Solver terminated early (max_iter=%i).'\n"
     ]
    },
    {
     "name": "stdout",
     "output_type": "stream",
     "text": [
      "              precision    recall  f1-score   support\n",
      "\n",
      "           0       0.87      0.66      0.76      6440\n",
      "           1       0.77      0.92      0.84      7666\n",
      "\n",
      "    accuracy                           0.80     14106\n",
      "   macro avg       0.82      0.79      0.80     14106\n",
      "weighted avg       0.82      0.80      0.80     14106\n",
      "\n"
     ]
    }
   ],
   "source": [
    "clf = SVC(C=10, random_state=0, max_iter=500, kernel = 'rbf' )\n",
    "clf.fit(trainXf, trainYo)\n",
    "prediction = clf.predict(testXf)\n",
    "\n",
    "print(classification_report(testYo, prediction))"
   ]
  },
  {
   "cell_type": "markdown",
   "metadata": {},
   "source": [
    "#### RBF kernel, C = 15"
   ]
  },
  {
   "cell_type": "code",
   "execution_count": 68,
   "metadata": {},
   "outputs": [
    {
     "name": "stderr",
     "output_type": "stream",
     "text": [
      "/Users/jiaqiwu/opt/anaconda3/lib/python3.8/site-packages/sklearn/svm/_base.py:246: ConvergenceWarning: Solver terminated early (max_iter=500).  Consider pre-processing your data with StandardScaler or MinMaxScaler.\n",
      "  warnings.warn('Solver terminated early (max_iter=%i).'\n"
     ]
    },
    {
     "name": "stdout",
     "output_type": "stream",
     "text": [
      "              precision    recall  f1-score   support\n",
      "\n",
      "           0       0.81      0.91      0.86      6440\n",
      "           1       0.92      0.82      0.87      7666\n",
      "\n",
      "    accuracy                           0.87     14106\n",
      "   macro avg       0.87      0.87      0.86     14106\n",
      "weighted avg       0.87      0.87      0.87     14106\n",
      "\n"
     ]
    }
   ],
   "source": [
    "clf = SVC(C=15 , random_state=0, max_iter=500, kernel = 'rbf' )\n",
    "clf.fit(trainXf, trainYo)\n",
    "prediction = clf.predict(testXf)\n",
    "\n",
    "print(classification_report(testYo, prediction))"
   ]
  },
  {
   "cell_type": "markdown",
   "metadata": {},
   "source": [
    "## Best\n",
    "#### RBF kernel, C = 20"
   ]
  },
  {
   "cell_type": "code",
   "execution_count": 54,
   "metadata": {},
   "outputs": [
    {
     "name": "stderr",
     "output_type": "stream",
     "text": [
      "/Users/jiaqiwu/opt/anaconda3/lib/python3.8/site-packages/sklearn/svm/_base.py:246: ConvergenceWarning: Solver terminated early (max_iter=500).  Consider pre-processing your data with StandardScaler or MinMaxScaler.\n",
      "  warnings.warn('Solver terminated early (max_iter=%i).'\n"
     ]
    },
    {
     "name": "stdout",
     "output_type": "stream",
     "text": [
      "              precision    recall  f1-score   support\n",
      "\n",
      "           0       0.93      0.93      0.93      6440\n",
      "           1       0.95      0.94      0.94      7666\n",
      "\n",
      "    accuracy                           0.94     14106\n",
      "   macro avg       0.94      0.94      0.94     14106\n",
      "weighted avg       0.94      0.94      0.94     14106\n",
      "\n"
     ]
    }
   ],
   "source": [
    "clf = SVC(C=20 , random_state=0, max_iter=500, kernel = 'rbf')\n",
    "clf.fit(trainXf, trainYo)\n",
    "prediction = clf.predict(testXf)\n",
    "\n",
    "print(classification_report(testYo, prediction))"
   ]
  },
  {
   "cell_type": "markdown",
   "metadata": {},
   "source": [
    "#### RBF kernel, C = 30"
   ]
  },
  {
   "cell_type": "code",
   "execution_count": 55,
   "metadata": {},
   "outputs": [
    {
     "name": "stderr",
     "output_type": "stream",
     "text": [
      "/Users/jiaqiwu/opt/anaconda3/lib/python3.8/site-packages/sklearn/svm/_base.py:246: ConvergenceWarning: Solver terminated early (max_iter=500).  Consider pre-processing your data with StandardScaler or MinMaxScaler.\n",
      "  warnings.warn('Solver terminated early (max_iter=%i).'\n"
     ]
    },
    {
     "name": "stdout",
     "output_type": "stream",
     "text": [
      "              precision    recall  f1-score   support\n",
      "\n",
      "           0       0.86      0.94      0.90      6440\n",
      "           1       0.95      0.87      0.91      7666\n",
      "\n",
      "    accuracy                           0.90     14106\n",
      "   macro avg       0.90      0.91      0.90     14106\n",
      "weighted avg       0.91      0.90      0.90     14106\n",
      "\n"
     ]
    }
   ],
   "source": [
    "clf = SVC(C=30, random_state=0, max_iter=500, kernel = 'rbf' )\n",
    "clf.fit(trainXf, trainYo)\n",
    "prediction = clf.predict(testXf)\n",
    "\n",
    "print(classification_report(testYo, prediction))"
   ]
  },
  {
   "cell_type": "markdown",
   "metadata": {},
   "source": [
    "#### RBF kernel, C = 50"
   ]
  },
  {
   "cell_type": "code",
   "execution_count": 56,
   "metadata": {},
   "outputs": [
    {
     "name": "stderr",
     "output_type": "stream",
     "text": [
      "/Users/jiaqiwu/opt/anaconda3/lib/python3.8/site-packages/sklearn/svm/_base.py:246: ConvergenceWarning: Solver terminated early (max_iter=500).  Consider pre-processing your data with StandardScaler or MinMaxScaler.\n",
      "  warnings.warn('Solver terminated early (max_iter=%i).'\n"
     ]
    },
    {
     "name": "stdout",
     "output_type": "stream",
     "text": [
      "              precision    recall  f1-score   support\n",
      "\n",
      "           0       0.81      0.90      0.85      6440\n",
      "           1       0.90      0.82      0.86      7666\n",
      "\n",
      "    accuracy                           0.85     14106\n",
      "   macro avg       0.86      0.86      0.85     14106\n",
      "weighted avg       0.86      0.85      0.86     14106\n",
      "\n"
     ]
    }
   ],
   "source": [
    "clf = SVC(C=50, random_state=0, max_iter=500, kernel = 'rbf' )\n",
    "clf.fit(trainXf, trainYo)\n",
    "prediction = clf.predict(testXf)\n",
    "\n",
    "print(classification_report(testYo, prediction))"
   ]
  },
  {
   "cell_type": "markdown",
   "metadata": {},
   "source": [
    "#### RBF kernel, C = 100"
   ]
  },
  {
   "cell_type": "code",
   "execution_count": 57,
   "metadata": {},
   "outputs": [
    {
     "name": "stderr",
     "output_type": "stream",
     "text": [
      "/Users/jiaqiwu/opt/anaconda3/lib/python3.8/site-packages/sklearn/svm/_base.py:246: ConvergenceWarning: Solver terminated early (max_iter=500).  Consider pre-processing your data with StandardScaler or MinMaxScaler.\n",
      "  warnings.warn('Solver terminated early (max_iter=%i).'\n"
     ]
    },
    {
     "name": "stdout",
     "output_type": "stream",
     "text": [
      "              precision    recall  f1-score   support\n",
      "\n",
      "           0       0.85      0.71      0.78      6440\n",
      "           1       0.79      0.89      0.84      7666\n",
      "\n",
      "    accuracy                           0.81     14106\n",
      "   macro avg       0.82      0.80      0.81     14106\n",
      "weighted avg       0.82      0.81      0.81     14106\n",
      "\n"
     ]
    }
   ],
   "source": [
    "clf = SVC(C=100, random_state=0, max_iter=500, kernel = 'rbf' )\n",
    "clf.fit(trainXf, trainYo)\n",
    "prediction = clf.predict(testXf)\n",
    "\n",
    "print(classification_report(testYo, prediction))"
   ]
  },
  {
   "cell_type": "code",
   "execution_count": 19,
   "metadata": {},
   "outputs": [],
   "source": [
    "# # setup all the parameters and models\n",
    "# exps = {\n",
    "#     'svm-lin': {\n",
    "#         'paramgrid': {'C': logspace(-2,3,10)},\n",
    "#         'clf': svm.SVC(kernel='linear') },\n",
    "#     'svm-rbf': {\n",
    "#         'paramgrid': {'C': logspace(-2,3,10), 'gamma': logspace(-4,3,10) },\n",
    "#         'clf': svm.SVC(kernel='rbf') },\n",
    "#     'svm-poly': {\n",
    "#         'paramgrid': {'C': logspace(-2,3,10), 'degree': [2, 3, 4] },\n",
    "#         'clf': svm.SVC(kernel='poly') },       \n",
    "#     }\n",
    "\n",
    "\n",
    "# ### INSERT YOUR CODE HERE\n",
    "# ## HINT\n",
    "# ## Classfiers: sklearn.model_selection.GridSearchCV()\n",
    "# for key in exps:\n",
    "#     clf = model_selection.GridSearchCV(exps[key]['clf'], exps[key]['paramgrid'], cv=5, n_jobs=-1)\n",
    "#     clf.fit(trainXf, trainYo)\n",
    "#     clfs2[key] = clf\n",
    "#     print(key)\n",
    "#     print(clf.best_params_)\n",
    "\n",
    "# ### INSERT YOUR CODE HERE\n",
    "# predYtest = {}\n",
    "# for key in clfs:\n",
    "#     clf = clfs2[key].best_estimator_\n",
    "#     predYtest[key] = clf.predict(testXfn)\n",
    "#     print('The training accuracy of ', key, ' is ', metrics.accuracy_score(clf.predict(trainXfn), trainYo))\n",
    "#     print('The testing accuracy of ', key, ' is ', metrics.accuracy_score(predYtest[key], testYo))\n",
    "#     ### Error Analysis Similar to before, repeat the error analysis for the new classifiers."
   ]
  },
  {
   "cell_type": "code",
   "execution_count": 32,
   "metadata": {},
   "outputs": [
    {
     "data": {
      "text/plain": [
       "sklearn.svm._classes.SVC"
      ]
     },
     "execution_count": 32,
     "metadata": {},
     "output_type": "execute_result"
    }
   ],
   "source": [
    "from sklearn.svm import SVC\n",
    "from sklearn.decomposition import PCA\n",
    "from sklearn.metrics import classification_report\n",
    "\n",
    "clf = SVC(C=10 , random_state=0, max_iter=500, kernel = 'rbf' )\n",
    "clf.fit(trainXf, trainYo)\n",
    "prediction = clf.predict(testXf)"
   ]
  },
  {
   "cell_type": "code",
   "execution_count": null,
   "metadata": {},
   "outputs": [],
   "source": []
  },
  {
   "cell_type": "code",
   "execution_count": null,
   "metadata": {},
   "outputs": [],
   "source": []
  },
  {
   "cell_type": "code",
   "execution_count": null,
   "metadata": {},
   "outputs": [],
   "source": []
  },
  {
   "cell_type": "code",
   "execution_count": null,
   "metadata": {},
   "outputs": [],
   "source": []
  },
  {
   "cell_type": "code",
   "execution_count": null,
   "metadata": {},
   "outputs": [],
   "source": []
  },
  {
   "cell_type": "code",
   "execution_count": null,
   "metadata": {},
   "outputs": [],
   "source": []
  },
  {
   "cell_type": "code",
   "execution_count": null,
   "metadata": {},
   "outputs": [],
   "source": []
  },
  {
   "cell_type": "code",
   "execution_count": null,
   "metadata": {},
   "outputs": [],
   "source": []
  },
  {
   "cell_type": "code",
   "execution_count": null,
   "metadata": {},
   "outputs": [],
   "source": []
  },
  {
   "cell_type": "code",
   "execution_count": null,
   "metadata": {},
   "outputs": [],
   "source": []
  },
  {
   "cell_type": "code",
   "execution_count": null,
   "metadata": {},
   "outputs": [],
   "source": []
  },
  {
   "cell_type": "code",
   "execution_count": null,
   "metadata": {},
   "outputs": [],
   "source": []
  },
  {
   "cell_type": "code",
   "execution_count": null,
   "metadata": {},
   "outputs": [],
   "source": []
  },
  {
   "cell_type": "code",
   "execution_count": null,
   "metadata": {},
   "outputs": [],
   "source": []
  }
 ],
 "metadata": {
  "kernelspec": {
   "display_name": "Python 3",
   "language": "python",
   "name": "python3"
  },
  "language_info": {
   "codemirror_mode": {
    "name": "ipython",
    "version": 3
   },
   "file_extension": ".py",
   "mimetype": "text/x-python",
   "name": "python",
   "nbconvert_exporter": "python",
   "pygments_lexer": "ipython3",
   "version": "3.8.5"
  },
  "varInspector": {
   "cols": {
    "lenName": 16,
    "lenType": 16,
    "lenVar": 40
   },
   "kernels_config": {
    "python": {
     "delete_cmd_postfix": "",
     "delete_cmd_prefix": "del ",
     "library": "var_list.py",
     "varRefreshCmd": "print(var_dic_list())"
    },
    "r": {
     "delete_cmd_postfix": ") ",
     "delete_cmd_prefix": "rm(",
     "library": "var_list.r",
     "varRefreshCmd": "cat(var_dic_list()) "
    }
   },
   "types_to_exclude": [
    "module",
    "function",
    "builtin_function_or_method",
    "instance",
    "_Feature"
   ],
   "window_display": false
  }
 },
 "nbformat": 4,
 "nbformat_minor": 4
}
